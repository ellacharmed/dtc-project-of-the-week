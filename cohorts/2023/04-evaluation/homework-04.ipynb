{
 "cells": [
  {
   "cell_type": "markdown",
   "metadata": {},
   "source": [
    "# Homework for week04\n",
    "\n",
    "> In this homework, we will use the Car price dataset like last week.\n",
    ">\n",
    "> We'll work with the MSRP variable, and we'll transform it to a classification task.\n",
    "\n",
    "For the rest of the homework, you'll need to use only these columns:\n",
    "\n",
    "- Make,\n",
    "- Model,\n",
    "- Year,\n",
    "- Engine HP,\n",
    "- Engine Cylinders,\n",
    "- Transmission Type,\n",
    "- Vehicle Style,\n",
    "- highway MPG,\n",
    "- city mpg\n",
    "- MSRP\n",
    "\n",
    "## Import packages"
   ]
  },
  {
   "cell_type": "code",
   "execution_count": null,
   "metadata": {},
   "outputs": [],
   "source": [
    "from tqdm.auto import tqdm\n",
    "import numpy as np\n",
    "import pandas as pd\n",
    "import matplotlib.pyplot as plt\n",
    "import seaborn as sns\n",
    "%matplotlib inline\n",
    "\n",
    "from sklearn.model_selection import train_test_split\n",
    "from sklearn.model_selection import KFold\n",
    "from sklearn.feature_extraction import DictVectorizer\n",
    "from sklearn.linear_model import LogisticRegression\n",
    "from sklearn.metrics import roc_auc_score, f1_score"
   ]
  },
  {
   "cell_type": "markdown",
   "metadata": {},
   "source": [
    "## Data Preparation"
   ]
  },
  {
   "cell_type": "code",
   "execution_count": null,
   "metadata": {},
   "outputs": [],
   "source": [
    "def load_prepare_data():\n",
    "\n",
    "    # load the data\n",
    "    print(f'Reading csv file into dataframe....')\n",
    "    df = pd.read_csv('../data/data-hmwk-3.csv')\n",
    "    print(f'Original df.shape: {df.shape}')\n",
    "\n",
    "    # clean/prepare the data\n",
    "    print(f'cleaning data....')\n",
    "    df.columns = df.columns.str.replace(' ', '_').str.lower()\n",
    "    df.columns = df.columns.str.replace('msrp', 'price')\n",
    "    \n",
    "    # remove duplicates\n",
    "    # print(f'removing duplicated records....')\n",
    "    # df.drop_duplicates(inplace=True)\n",
    "\n",
    "    # identify features and target\n",
    "    features = ['make', 'model', 'year', 'engine_hp', 'engine_cylinders',  \n",
    "                      'transmission_type', 'vehicle_style', 'highway_mpg', 'city_mpg'\n",
    "                    ]\n",
    "    target = ['price']\n",
    "\n",
    "    # use a subset for analysis\n",
    "    df = df[features+target]\n",
    "\n",
    "    # impute Nan/nulls with 0\n",
    "    print(f'imputing NULLs....')\n",
    "    df = df.fillna(0)\n",
    "\n",
    "    # calculate the mean for price column\n",
    "    print(f'binarizing target series....')\n",
    "    mean_price = df.price.mean()\n",
    "    # create a new column called 'above_average' that is set to 1 if value is above the mean_price\n",
    "    df['above_average'] = [1 if price > mean_price else 0 for price in df['price']] \n",
    "\n",
    "    # remove price as target and replace with 'above_average'\n",
    "    del df['price']\n",
    "    target = ['above_average']\n",
    "\n",
    "    return df\n"
   ]
  },
  {
   "cell_type": "code",
   "execution_count": null,
   "metadata": {},
   "outputs": [],
   "source": [
    "data = load_prepare_data()"
   ]
  },
  {
   "cell_type": "code",
   "execution_count": null,
   "metadata": {},
   "outputs": [],
   "source": [
    "data.head().T"
   ]
  },
  {
   "cell_type": "code",
   "execution_count": null,
   "metadata": {},
   "outputs": [],
   "source": [
    "data.describe()"
   ]
  },
  {
   "cell_type": "markdown",
   "metadata": {},
   "source": [
    "### Split the data"
   ]
  },
  {
   "cell_type": "code",
   "execution_count": null,
   "metadata": {},
   "outputs": [],
   "source": [
    "# split the data to train/val/test sets with 60%/20%/20% distribution\n",
    "df_full_train, df_test = train_test_split(data, test_size=0.2, random_state=1)\n",
    "df_train, df_val = train_test_split(df_full_train, test_size=0.25, random_state=1)\n",
    "\n",
    "# set the y dataframe\n",
    "y_train = df_train.above_average.values\n",
    "y_val = df_val.above_average.values\n",
    "y_test = df_test.above_average.values\n",
    "\n",
    "# remove target from df\n",
    "del df_train['above_average']\n",
    "del df_val['above_average']\n",
    "del df_test['above_average']"
   ]
  },
  {
   "cell_type": "markdown",
   "metadata": {},
   "source": [
    "## Question 1: ROC AUC feature importance\n",
    "\n",
    "> ROC AUC could also be used to evaluate feature importance of numerical variables.\n",
    "> \n",
    ">Let's do that\n",
    "> \n",
    ">     For each numerical variable, use it as score and compute AUC with the above_average variable\n",
    ">     Use the training dataset for that\n",
    "> \n",
    "> If your AUC is < 0.5, invert this variable by putting \"-\" in front\n",
    "> \n",
    "> (e.g. -df_train['engine_hp'])\n",
    "> \n",
    "> AUC can go below 0.5 if the variable is negatively correlated with the target varialble. You can change > the direction of the correlation by negating this variable - then negative correlation becomes positive."
   ]
  },
  {
   "cell_type": "code",
   "execution_count": null,
   "metadata": {},
   "outputs": [],
   "source": [
    "df_full_train.info()"
   ]
  },
  {
   "cell_type": "code",
   "execution_count": null,
   "metadata": {},
   "outputs": [],
   "source": [
    "categorical_columns = list(df_full_train.select_dtypes(include=['category', 'object']).columns)\n",
    "numerical_columns = list(df_full_train.select_dtypes(include=['number']).columns)"
   ]
  },
  {
   "cell_type": "code",
   "execution_count": null,
   "metadata": {},
   "outputs": [],
   "source": [
    "categorical_columns"
   ]
  },
  {
   "cell_type": "code",
   "execution_count": null,
   "metadata": {},
   "outputs": [],
   "source": [
    "numerical_columns"
   ]
  },
  {
   "cell_type": "code",
   "execution_count": null,
   "metadata": {},
   "outputs": [],
   "source": [
    "df_full_train[['engine_hp', 'highway_mpg', 'city_mpg', 'above_average']].reset_index(drop=True).head()"
   ]
  },
  {
   "cell_type": "code",
   "execution_count": null,
   "metadata": {},
   "outputs": [],
   "source": [
    "df_full_train[numerical_columns]"
   ]
  },
  {
   "cell_type": "code",
   "execution_count": null,
   "metadata": {},
   "outputs": [],
   "source": [
    "df_full_train.above_average.value_counts()"
   ]
  },
  {
   "cell_type": "code",
   "execution_count": null,
   "metadata": {},
   "outputs": [],
   "source": [
    "df_full_train.above_average.mean()"
   ]
  },
  {
   "cell_type": "code",
   "execution_count": null,
   "metadata": {},
   "outputs": [],
   "source": [
    "sns.heatmap(df_full_train[numerical_columns].corr(), annot=True, fmt='.2f', cmap='RdBu_r', square=True)\n",
    "plt.title('Bivariate analysis: heatmap of correlation of variables')\n",
    "plt.show()"
   ]
  },
  {
   "cell_type": "code",
   "execution_count": null,
   "metadata": {},
   "outputs": [],
   "source": [
    "for col in ['engine_hp', 'engine_cylinders', 'highway_mpg', 'city_mpg']:\n",
    "    auc_score = roc_auc_score(df_full_train['above_average'], df_full_train[col])\n",
    "    if auc_score < 0.5 :\n",
    "        auc_score = roc_auc_score(df_full_train['above_average'], -df_full_train[col])\n",
    "    print(f'AUC score for {col}: {auc_score:.2f}')\n"
   ]
  },
  {
   "cell_type": "markdown",
   "metadata": {},
   "source": [
    "### notes\n",
    "(auc_score < 0.5) condition not checked, we get below variables < 0.5\n",
    "\n",
    "> AUC score for highway_mpg: 0.37<br>\n",
    "> AUC score for city_mpg: 0.33\n",
    "\n",
    "Answers with duplicates dropped, which is not part of instructions, is similarly close. Qn2's answer however is different when duplicates are dropped, so the code is removed/commented for now.\n",
    "\n",
    "```python\n",
    "df.drop_duplicates(inplace=True)\n",
    "```\n",
    "> AUC score for engine_hp: 0.92<br>\n",
    "> AUC score for engine_cylinders: 0.77<br>\n",
    "> AUC score for highway_mpg: 0.64<br>\n",
    "> AUC score for city_mpg: 0.68<br>\n"
   ]
  },
  {
   "cell_type": "markdown",
   "metadata": {},
   "source": [
    "### qn1 ans: `engine_hp`\n",
    "\n",
    "q: Which numerical variable (among the following 4) has the highest AUC?\n",
    "\n",
    "a: `engine_hp`\n",
    "\n",
    "\n",
    "## Question 2: Training the model\n",
    "\n",
    "> Apply one-hot-encoding using DictVectorizer and train the logistic regression with these parameters:\n",
    "\n",
    "> LogisticRegression(solver='liblinear', C=1.0, max_iter=1000)"
   ]
  },
  {
   "cell_type": "code",
   "execution_count": null,
   "metadata": {},
   "outputs": [],
   "source": [
    "def perform_ohe(df_train, df_val):\n",
    "    # perform OHE on categorical data; made sparse due to non-convergence otherwise\n",
    "    dv = DictVectorizer(sparse=True)\n",
    "\n",
    "    train = df_train.reset_index(drop=True)\n",
    "    val = df_val.reset_index(drop=True)\n",
    "\n",
    "    train_dict = train.to_dict(orient='records')\n",
    "    X_train = dv.fit_transform(train_dict)\n",
    "\n",
    "    val_dict = val.to_dict(orient='records')\n",
    "    X_val = dv.transform(val_dict)\n",
    "\n",
    "    # print(X.shape, y.shape)\n",
    "    return X_train, X_val"
   ]
  },
  {
   "cell_type": "code",
   "execution_count": null,
   "metadata": {},
   "outputs": [],
   "source": [
    "X_train, X_val = perform_ohe(df_train, df_val)\n",
    "\n",
    "model = LogisticRegression(solver='liblinear', C=1.0, max_iter=1000)\n",
    "model.fit(X_train, y_train)\n",
    "\n",
    "y_pred = model.predict_proba(X_val)[:, 1]\n",
    "auc = roc_auc_score(y_val, y_pred)\n",
    "print(f'{auc.round(4) }')            # `0.970` when duplicates dropped\n",
    "print(f'{auc.round(4) - 0.979}') # this is the closest answer\n",
    "print(f'{auc.round(4) - 0.878}')"
   ]
  },
  {
   "cell_type": "markdown",
   "metadata": {},
   "source": [
    "### qn2 ans: `0.979`\n",
    "\n",
    "Q: What's the AUC of this model on the validation dataset? (round to 3 digits)\n",
    "\n",
    "A: `0.979`\n",
    "\n",
    "## Question 3: Precision and Recall\n",
    "\n",
    "> Now let's compute precision and recall for our model.\n",
    ">\n",
    ">    - Evaluate the model on all thresholds from 0.0 to 1.0 with step 0.01\n",
    ">    - For each threshold, compute precision and recall\n",
    ">    - Plot them\n"
   ]
  },
  {
   "cell_type": "code",
   "execution_count": null,
   "metadata": {},
   "outputs": [],
   "source": [
    "# code is from lesson\n",
    "scores = []\n",
    "\n",
    "thresholds = np.linspace(0, 1, 101)\n",
    "\n",
    "for t in thresholds:\n",
    "    actual_positive = (y_val == 1)\n",
    "    actual_negative = (y_val == 0)\n",
    "    \n",
    "    predict_positive = (y_pred >= t)\n",
    "    predict_negative = (y_pred < t)\n",
    "\n",
    "    tp = (predict_positive & actual_positive).sum()\n",
    "    tn = (predict_negative & actual_negative).sum()\n",
    "\n",
    "    fp = (predict_positive & actual_negative).sum()\n",
    "    fn = (predict_negative & actual_positive).sum()\n",
    "    \n",
    "    scores.append((t, tp, fp, fn, tn))"
   ]
  },
  {
   "cell_type": "code",
   "execution_count": null,
   "metadata": {},
   "outputs": [],
   "source": [
    "# code is from lesson\n",
    "columns = ['threshold', 'tp', 'fp', 'fn', 'tn']\n",
    "df_scores = pd.DataFrame(scores, columns=columns)\n",
    "\n",
    "df_scores['tpr'] = df_scores.tp / (df_scores.tp + df_scores.fn)\n",
    "df_scores['fpr'] = df_scores.fp / (df_scores.fp + df_scores.tn)"
   ]
  },
  {
   "cell_type": "code",
   "execution_count": null,
   "metadata": {},
   "outputs": [],
   "source": [
    "# code is from lesson\n",
    "# plt.plot(df_scores.threshold, df_scores['tpr'], label='TPR')\n",
    "# plt.plot(df_scores.threshold, df_scores['fpr'], label='FPR')\n",
    "# plt.legend()"
   ]
  },
  {
   "cell_type": "markdown",
   "metadata": {},
   "source": [
    "Definitions:\n",
    "\n",
    "- _precision_ : fraction of **POSITIVE** predictions that are **CORRECT**\n",
    "$$precision = tp / (tp + fp)$$\n",
    "- _recall_ : fraction of **CORRECT**ly identified **POSITIVE** samples\n",
    "$$recall = tp / (tp + fn)$$\n",
    "- _fpr_ : False Positive Rate\n",
    "$$fpr = fp / (tn + fp)$$\n",
    "- _tpr_ : True Positive Rate\n",
    "$$tpr = fn / (fn + tp)$$"
   ]
  },
  {
   "cell_type": "code",
   "execution_count": null,
   "metadata": {},
   "outputs": [],
   "source": [
    "# code is from lesson\n",
    "df_scores['p'] = df_scores.tp / (df_scores.tp + df_scores.fp)\n",
    "df_scores['r'] = df_scores.tp / (df_scores.tp + df_scores.fn)"
   ]
  },
  {
   "cell_type": "code",
   "execution_count": null,
   "metadata": {},
   "outputs": [],
   "source": [
    "# code is from lesson\n",
    "plt.plot(df_scores.threshold, df_scores.p, label='precision')\n",
    "plt.plot(df_scores.threshold, df_scores.r, label='recall')\n",
    "\n",
    "plt.vlines(0.48, 0, 1, color='grey', linestyle='--', alpha=0.5)\n",
    "plt.annotate(\"0.48\",  (0.5,0.87))\n",
    "plt.legend()\n",
    "plt.show()"
   ]
  },
  {
   "cell_type": "markdown",
   "metadata": {},
   "source": [
    "### qn3 ans: `0.48`\n",
    "\n",
    "Q: At which threshold precision and recall curves intersect?\n",
    "\n",
    "A: `0.48` (drop_duplicates gives 0.44)\n",
    "\n",
    "\n",
    "## Question 4: F1 score\n",
    "\n",
    "> Precision and recall are conflicting - when one grows, the other goes down. That's why they are often combined into the F1 score - a metrics that takes into account both\n",
    "\n",
    "> This is the formula for computing F1:\n",
    "\n",
    "$$F_1 = 2 \\cdot \\cfrac{P \\cdot R}{P + R}$$\n",
    "\n",
    "> Where $P$ is precision and $R$ is recall.\n",
    "\n",
    "> Let's compute F1 for all thresholds from 0.0 to 1.0 with increment 0.01"
   ]
  },
  {
   "cell_type": "code",
   "execution_count": null,
   "metadata": {},
   "outputs": [],
   "source": [
    "# use above formula and add to same dataframe\n",
    "df_scores['f1'] = 2 * (df_scores.p * df_scores.r / (df_scores.p + df_scores.r))"
   ]
  },
  {
   "cell_type": "code",
   "execution_count": null,
   "metadata": {},
   "outputs": [],
   "source": [
    "df_scores[::10]"
   ]
  },
  {
   "cell_type": "code",
   "execution_count": null,
   "metadata": {},
   "outputs": [],
   "source": [
    "print(f'{df_scores[\"f1\"].max() = }')\n",
    "\n",
    "# idx is in tens and thresholds in 1/100, so multiply idx*001 to get threshold value\n",
    "max_f1_threshold = df_scores['f1'].idxmax()*0.01 \n",
    "print(f'{max_f1_threshold = }')"
   ]
  },
  {
   "cell_type": "code",
   "execution_count": null,
   "metadata": {},
   "outputs": [],
   "source": [
    "fig, ax = plt.subplots(figsize=(10, 5))\n",
    "\n",
    "line = ax.plot(df_scores.threshold, df_scores.f1)\n",
    "dash = ax.vlines((0.12, 0.32, 0.52, 0.72), 0.0, 0.95, color='grey', linestyle='--', alpha=0.5)\n",
    "ax.annotate('0.12',\n",
    "            xy=(0.12, 0.8), xycoords='data',\n",
    "            xytext=(0.12, 0.68), textcoords='axes fraction',\n",
    "            arrowprops=dict(facecolor='black', shrink=0.05),\n",
    "            horizontalalignment='right', verticalalignment='top')\n",
    "ax.annotate('0.32',\n",
    "            xy=(0.32, 0.88), xycoords='data',\n",
    "            xytext=(0.32, 0.78), textcoords='axes fraction',\n",
    "            arrowprops=dict(facecolor='black', shrink=0.05),\n",
    "            horizontalalignment='right', verticalalignment='top')\n",
    "ax.annotate('0.49 (mine)',\n",
    "            xy=(0.49, 0.88), xycoords='data',\n",
    "            xytext=(0.49, 0.75), textcoords='axes fraction',\n",
    "            arrowprops=dict(facecolor='black', shrink=0.05),\n",
    "            horizontalalignment='right', verticalalignment='top')\n",
    "ax.annotate('0.52 (ans)',\n",
    "            xy=(0.52, 0.88), xycoords='data',\n",
    "            xytext=(0.54, 0.75), textcoords='axes fraction',\n",
    "            arrowprops=dict(facecolor='black', shrink=0.05),\n",
    "            horizontalalignment='left', verticalalignment='bottom')\n",
    "ax.annotate('0.72',\n",
    "            xy=(0.72, 0.85), xycoords='data',\n",
    "            xytext=(0.72, 0.75), textcoords='axes fraction',\n",
    "            arrowprops=dict(facecolor='black', shrink=0.05),\n",
    "            horizontalalignment='left', verticalalignment='top')\n",
    "plt.xticks(np.linspace(0, 0.9, 11))\n",
    "plt.yticks(np.linspace(0.0, 1.0, 5))\n",
    "plt.show()"
   ]
  },
  {
   "cell_type": "markdown",
   "metadata": {},
   "source": [
    "### qn4 ans: `0.52`\n",
    "\n",
    "Q: At which threshold F1 is maximal?\n",
    "\n",
    "A: `0.49` take closest `0.52`\n",
    "\n",
    "## Question 5: 5-Fold CV\n",
    "\n",
    "Use the `KFold` class from Scikit-Learn to evaluate our model on 5 different folds:\n",
    "\n",
    "```\n",
    "KFold(n_splits=5, shuffle=True, random_state=1)\n",
    "```\n",
    "\n",
    "* Iterate over different folds of `df_full_train`\n",
    "* Split the data into train and validation\n",
    "* Train the model on train with these parameters: `LogisticRegression(solver='liblinear', C=1.0, max_iter=1000)`\n",
    "* Use AUC to evaluate the model on validation"
   ]
  },
  {
   "cell_type": "code",
   "execution_count": null,
   "metadata": {},
   "outputs": [],
   "source": [
    "categorical_columns"
   ]
  },
  {
   "cell_type": "code",
   "execution_count": null,
   "metadata": {},
   "outputs": [],
   "source": [
    "numerical_columns"
   ]
  },
  {
   "cell_type": "code",
   "execution_count": null,
   "metadata": {},
   "outputs": [],
   "source": [
    "numerical_columns.remove('above_average')"
   ]
  },
  {
   "cell_type": "code",
   "execution_count": null,
   "metadata": {},
   "outputs": [],
   "source": [
    "def train(df_train, y_train):\n",
    "    dicts = df_train[categorical_columns + numerical_columns].to_dict(orient='records')\n",
    "\n",
    "    dv = DictVectorizer(sparse=False)\n",
    "    X_train = dv.fit_transform(dicts)\n",
    "\n",
    "    model = LogisticRegression(solver='liblinear', C=1.0, max_iter=1000)\n",
    "    model.fit(X_train, y_train)\n",
    "    \n",
    "    return dv, model\n",
    "\n",
    "def predict_prob(df, dv, model):\n",
    "    dicts = df[categorical_columns + numerical_columns].to_dict(orient='records')\n",
    "\n",
    "    X = dv.transform(dicts)\n",
    "    y_pred = model.predict_proba(X)[:, 1]\n",
    "\n",
    "    return y_pred\n",
    "\n",
    "def predict(df, dv, model):\n",
    "    dicts = df[categorical_columns + numerical_columns].to_dict(orient='records')\n",
    "\n",
    "    X = dv.transform(dicts)\n",
    "    y_pred = model.predict(X)\n",
    "\n",
    "    return y_pred"
   ]
  },
  {
   "cell_type": "code",
   "execution_count": null,
   "metadata": {},
   "outputs": [],
   "source": [
    "scores = []\n",
    "n_splits = 5\n",
    "kfold = KFold(n_splits=n_splits, shuffle=True, random_state=1)"
   ]
  },
  {
   "cell_type": "code",
   "execution_count": null,
   "metadata": {},
   "outputs": [],
   "source": [
    "for train_idx, val_idx in tqdm(kfold.split(df_full_train)):\n",
    "    df_train = df_full_train.iloc[train_idx]\n",
    "    df_val = df_full_train.iloc[val_idx]\n",
    "\n",
    "    # set the y dataframe\n",
    "    y_train = df_train.above_average.values\n",
    "    y_val = df_val.above_average.values\n",
    "\n",
    "    # remove target from df\n",
    "    del df_train['above_average']\n",
    "    del df_val['above_average']\n",
    "\n",
    "    dv, model = train(df_train, y_train)\n",
    "    y_pred = predict_prob(df_val, dv, model)\n",
    "\n",
    "    auc = roc_auc_score(y_val, y_pred)\n",
    "    scores.append(auc)\n",
    "\n",
    "print(f'mean auc: {np.mean(scores):.3f}, std: +-{np.std(scores):.3f}')"
   ]
  },
  {
   "cell_type": "markdown",
   "metadata": {},
   "source": [
    "### qn5 ans: `0.003`\n",
    "\n",
    "Q: How large is standard devidation of the scores across different folds?\n",
    "\n",
    "A: `0.004`\n",
    "\n",
    "## Question 6: Hyperparameter Tuning\n",
    "\n",
    "Now let's use 5-Fold cross-validation to find the best parameter C\n",
    "\n",
    "- Iterate over the following C values: [0.01, 0.1, 0.5, 10]\n",
    "- Initialize KFold with the same parameters as previously\n",
    "- Use these parametes for the model: LogisticRegression(solver='liblinear', C=C, max_iter=1000)\n",
    "- Compute the mean score as well as the std (round the mean and std to 3 decimal digits)\n"
   ]
  },
  {
   "cell_type": "code",
   "execution_count": null,
   "metadata": {},
   "outputs": [],
   "source": [
    "def train(df_train, y_train, C=1.0):\n",
    "    dicts = df_train[categorical_columns + numerical_columns].to_dict(orient='records')\n",
    "\n",
    "    dv = DictVectorizer(sparse=False)\n",
    "    X_train = dv.fit_transform(dicts)\n",
    "\n",
    "    model = LogisticRegression(solver='liblinear', C=C, max_iter=1000)\n",
    "    model.fit(X_train, y_train)\n",
    "    \n",
    "    return dv, model"
   ]
  },
  {
   "cell_type": "code",
   "execution_count": null,
   "metadata": {},
   "outputs": [],
   "source": [
    "scores_dict = {}\n",
    "for C in tqdm([0.01, 0.1, 0.5, 10]):\n",
    "    kfold = KFold(n_splits=n_splits, shuffle=True, random_state=1)\n",
    "\n",
    "    scores = []\n",
    "\n",
    "    for train_idx, val_idx in kfold.split(df_full_train):\n",
    "        df_train = df_full_train.iloc[train_idx]\n",
    "        df_val = df_full_train.iloc[val_idx]\n",
    "\n",
    "        # set the y dataframe\n",
    "        y_train = df_train.above_average.values\n",
    "        y_val = df_val.above_average.values\n",
    "\n",
    "        # remove target from df\n",
    "        del df_train['above_average']\n",
    "        del df_val['above_average']\n",
    "\n",
    "        dv, model = train(df_train, y_train, C=C)\n",
    "        y_pred = predict_prob(df_val, dv, model)\n",
    "\n",
    "        auc = roc_auc_score(y_val, y_pred)\n",
    "        f1 = f1_score(y_val, predict(df_val, dv, model))\n",
    "        scores.append(auc)\n",
    "        \n",
    "    print(f'loop, C= {C}, mean auc: {np.mean(scores)}, f1 score: {f1}')\n",
    "        \n",
    "    scores_dict[repr(C)] = { 'mean auc' : np.mean(scores).round(3)\n",
    "                                          , 'std var' : '+-'+repr(np.std(scores).round(5))\n",
    "                                    }\n"
   ]
  },
  {
   "cell_type": "code",
   "execution_count": null,
   "metadata": {},
   "outputs": [],
   "source": [
    "from pprint import pprint\n",
    "\n",
    "pprint(scores_dict, indent=5)\n"
   ]
  },
  {
   "cell_type": "markdown",
   "metadata": {},
   "source": [
    "### qn6 ans: `10`\n",
    "\n",
    "Q: Which C leads to the best mean score?\n",
    "\n",
    "A: `10`"
   ]
  },
  {
   "cell_type": "markdown",
   "metadata": {},
   "source": [
    "## Extras\n",
    "\n",
    "### EDA\n",
    "\n",
    "- what if we change 'year', 'engine_cylinders',  'above_average' variables to categorical variables, would the answers differ?"
   ]
  },
  {
   "cell_type": "code",
   "execution_count": null,
   "metadata": {},
   "outputs": [],
   "source": [
    "data = load_prepare_data()\n",
    "df_full_train, df_test = train_test_split(data, test_size=0.2, random_state=1)"
   ]
  },
  {
   "cell_type": "code",
   "execution_count": null,
   "metadata": {},
   "outputs": [],
   "source": [
    "df_full_train[['year', 'engine_cylinders', 'above_average']] = df_full_train[['year'\n",
    "                                                                              , 'engine_cylinders'\n",
    "                                                                              ,  'above_average']].astype('category')"
   ]
  },
  {
   "cell_type": "code",
   "execution_count": null,
   "metadata": {},
   "outputs": [],
   "source": [
    "df_full_train.info()"
   ]
  },
  {
   "cell_type": "code",
   "execution_count": null,
   "metadata": {},
   "outputs": [],
   "source": [
    "df_full_train.describe(percentiles=[0.1, .25, .5, .75, 0.99])"
   ]
  },
  {
   "cell_type": "markdown",
   "metadata": {},
   "source": [
    "It's evident from the `min` to `10th` percentile and `99th` percentile to `max`, our dataset has outliers."
   ]
  },
  {
   "cell_type": "code",
   "execution_count": null,
   "metadata": {},
   "outputs": [],
   "source": [
    "categorical_columns = list(df_full_train.select_dtypes(include=['category', 'object']).columns)\n",
    "numerical_columns = list(df_full_train.select_dtypes(include=['number']).columns)"
   ]
  },
  {
   "cell_type": "code",
   "execution_count": null,
   "metadata": {},
   "outputs": [],
   "source": [
    "sns.pairplot(df_full_train, hue='above_average',  diag_kind=\"hist\", corner=True)\n",
    "plt.title('pairplot of numerical variables')\n",
    "plt.show()"
   ]
  },
  {
   "cell_type": "markdown",
   "metadata": {},
   "source": [
    "`city_mpg` and `highway_mpg` has long tail, and outliers as already discovered above, and confirmed by the `boxplot` below.\n",
    "\n",
    "Not just needing to treat outliers and long-tail distribution, we also have to scale the numerical data as the y-axes show that they have different values."
   ]
  },
  {
   "cell_type": "code",
   "execution_count": null,
   "metadata": {},
   "outputs": [],
   "source": [
    "df_full_train.plot.box(figsize=(12, 12), layout=(3,3), subplots=True, sharex=False, sharey=False)\n",
    "plt.show()"
   ]
  },
  {
   "cell_type": "code",
   "execution_count": null,
   "metadata": {},
   "outputs": [],
   "source": [
    "sns.stripplot(df_full_train, x=\"city_mpg\", y=\"engine_hp\", hue=\"above_average\", orient='h', dodge=True)\n",
    "plt.title('city_mpg vs engine_hp by above_average breakdown')\n",
    "plt.yticks([])\n",
    "plt.show()"
   ]
  },
  {
   "cell_type": "code",
   "execution_count": null,
   "metadata": {},
   "outputs": [],
   "source": [
    "categorical_columns.remove('above_average')"
   ]
  },
  {
   "cell_type": "code",
   "execution_count": null,
   "metadata": {},
   "outputs": [],
   "source": [
    "def train(df_train, y_train, C=1.0):\n",
    "    dicts = df_train[categorical_columns + numerical_columns].to_dict(orient='records')\n",
    "\n",
    "    dv = DictVectorizer(sparse=False)\n",
    "    X_train = dv.fit_transform(dicts)\n",
    "\n",
    "    model = LogisticRegression(solver='liblinear', C=C, max_iter=1000)\n",
    "    model.fit(X_train, y_train)\n",
    "    \n",
    "    return dv, model\n",
    "\n",
    "def predict_prob(df, dv, model):\n",
    "    dicts = df[categorical_columns + numerical_columns].to_dict(orient='records')\n",
    "\n",
    "    X = dv.transform(dicts)\n",
    "    y_pred = model.predict_proba(X)[:, 1]\n",
    "\n",
    "    return y_pred\n",
    "\n",
    "def predict(df, dv, model):\n",
    "    dicts = df[categorical_columns + numerical_columns].to_dict(orient='records')\n",
    "\n",
    "    X = dv.transform(dicts)\n",
    "    y_pred = model.predict(X)\n",
    "\n",
    "    return y_pred"
   ]
  },
  {
   "cell_type": "code",
   "execution_count": null,
   "metadata": {},
   "outputs": [],
   "source": [
    "scores = []\n",
    "n_splits = 5\n",
    "kfold = KFold(n_splits=n_splits, shuffle=True, random_state=1)"
   ]
  },
  {
   "cell_type": "code",
   "execution_count": null,
   "metadata": {},
   "outputs": [],
   "source": [
    "scores_dict = {}\n",
    "for C in tqdm([0.01, 0.1, 0.5, 10]):\n",
    "    kfold = KFold(n_splits=n_splits, shuffle=True, random_state=1)\n",
    "\n",
    "    scores = []\n",
    "\n",
    "    for train_idx, val_idx in kfold.split(df_full_train):\n",
    "        df_train = df_full_train.iloc[train_idx]\n",
    "        df_val = df_full_train.iloc[val_idx]\n",
    "        # display(df_train.head())\n",
    "\n",
    "        # set the y dataframe\n",
    "        y_train = df_train.above_average.values\n",
    "        y_val = df_val.above_average.values\n",
    "\n",
    "        # remove target from df\n",
    "        del df_train['above_average']\n",
    "        del df_val['above_average']\n",
    "        # display(df_train.head())\n",
    "\n",
    "        dv, model = train(df_train, y_train, C=C)\n",
    "        y_pred = predict_prob(df_val, dv, model)\n",
    "\n",
    "        auc = roc_auc_score(y_val, y_pred)\n",
    "        f1 = f1_score(y_val, predict(df_val, dv, model))\n",
    "        scores.append(auc)\n",
    "        scores.append(f1)\n",
    "\n",
    "    print(f'loop, C= {C}, mean auc: {np.mean(scores)}, f1 score: {f1}')\n",
    "        \n",
    "    scores_dict[repr(C)] = { 'mean auc' : np.mean(scores).round(3)\n",
    "                                          , 'std var' : '+-'+repr(np.std(scores).round(5))\n",
    "                                          , 'mean f1' : np.mean(scores).round(5)\n",
    "                                    }\n"
   ]
  },
  {
   "cell_type": "code",
   "execution_count": null,
   "metadata": {},
   "outputs": [],
   "source": [
    "X = df_train[['city_mpg', 'engine_hp']]\n",
    "dicts = X.to_dict(orient='records')\n",
    "\n",
    "dv = DictVectorizer(sparse=False)\n",
    "X_train = dv.fit_transform(dicts)\n",
    "\n",
    "model = LogisticRegression(solver='liblinear', C=C, max_iter=1000)\n",
    "model.fit(X_train, y_train)\n"
   ]
  },
  {
   "cell_type": "code",
   "execution_count": null,
   "metadata": {},
   "outputs": [],
   "source": [
    "X.info()"
   ]
  },
  {
   "cell_type": "code",
   "execution_count": null,
   "metadata": {},
   "outputs": [],
   "source": [
    "from sklearn.inspection import DecisionBoundaryDisplay\n",
    "_, ax = plt.subplots(figsize=(4, 3))\n",
    "DecisionBoundaryDisplay.from_estimator(\n",
    "    model,\n",
    "    X,\n",
    "    cmap=plt.cm.Paired,\n",
    "    ax=ax,\n",
    "    response_method=\"predict\",\n",
    "    plot_method=\"pcolormesh\",\n",
    "    shading=\"auto\",\n",
    "    xlabel=\"city_mpg\",\n",
    "    ylabel=\"engine_hp\",\n",
    "    eps=0.5,\n",
    ")\n",
    "\n",
    "# Plot also the training points\n",
    "plt.scatter(X.iloc[:, 0], X.iloc[:, 1], c=y_train, edgecolors=\"k\", cmap=plt.cm.Paired)\n",
    "\n",
    "plt.xticks(())\n",
    "plt.yticks(())\n",
    "\n",
    "plt.show()"
   ]
  }
 ],
 "metadata": {
  "kernelspec": {
   "display_name": "zoomcamp",
   "language": "python",
   "name": "python3"
  },
  "language_info": {
   "codemirror_mode": {
    "name": "ipython",
    "version": 3
   },
   "file_extension": ".py",
   "mimetype": "text/x-python",
   "name": "python",
   "nbconvert_exporter": "python",
   "pygments_lexer": "ipython3",
   "version": "3.10.12"
  },
  "orig_nbformat": 4
 },
 "nbformat": 4,
 "nbformat_minor": 2
}
