{
 "cells": [
  {
   "cell_type": "markdown",
   "metadata": {},
   "source": [
    "## Homework for week01\n",
    "\n",
    "### Setup environment\n",
    "\n",
    "- name env `zoomcamp`\n",
    "\n",
    "```python\n",
    "micromamba create -n zoomcamp python=3.9\n",
    "micromamba activate zoomcamp\n",
    "micromamba install numpy pandas scikit-learn seaborn jupyter\n",
    "```\n",
    "\n",
    "### Get data\n",
    "\n",
    "```bash\n",
    "!wget -P <path> -O <out_file_name>\n",
    "```"
   ]
  },
  {
   "cell_type": "code",
   "execution_count": null,
   "metadata": {},
   "outputs": [],
   "source": [
    "# !wget -P ../data https://raw.githubusercontent.com/alexeygrigorev/datasets/master/housing.csv"
   ]
  },
  {
   "cell_type": "markdown",
   "metadata": {},
   "source": [
    "#### Data Dictionary\n",
    "[source](https://www.kaggle.com/datasets/camnugent/california-housing-prices)\n",
    "\n",
    "Take note that the numbers in dataset is referring to residential buildings `within a block` and is not for single-family homes.\n",
    "\n",
    "\n",
    "> 1. longitude: A measure of how far west a house is; a higher value is farther west\n",
    "> \n",
    "> 2. latitude: A measure of how far north a house is; a higher value is farther north\n",
    "> \n",
    "> 3. housingMedianAge: Median age of a house within a block; a lower number is a newer building\n",
    "> \n",
    "> 4. totalRooms: Total number of rooms within a block\n",
    "> \n",
    "> 5. totalBedrooms: Total number of bedrooms within a block\n",
    "> \n",
    "> 6. population: Total number of people residing within a block\n",
    "> \n",
    "> 7. households: Total number of households, a group of people residing within a home unit, for a block\n",
    "> \n",
    "> 8. medianIncome: Median income for households within a block of houses (measured in tens of thousands of US Dollars)\n",
    "> \n",
    "> 9. medianHouseValue: Median house value for households within a block (measured in US Dollars)\n",
    "> \n",
    "> 10. oceanProximity: Location of the house w.r.t ocean/sea\n",
    "\n",
    "#### What is a block?\n",
    "\n",
    "[source](https://www.tripadvisor.co.uk/ShowTopic-g60763-i5-k550785-What_is_a_block-New_York_City_New_York.html)\n",
    "\n",
    "> While a block properly so-called is just as described above, most New Yorkers (and indeed, most Americans) commonly use it to mean \"the distance along a street between intersections.\"\n",
    "> \n",
    "> If I start at the corner of Fifth Avenue and 50th Street and walk north along Fifth Avenue, when I come to 51st Street I have walked \"one block\", when I arrive at 53rd Street I have walked \"three blocks\", and so on.\n",
    "> \n",
    "> Naturally, blocks are NOT the same length -- it is three or four times longer to walk the one block from Fifth to Sixth Avenues than it is to walk the one block from 35th to 36th Streets."
   ]
  },
  {
   "cell_type": "code",
   "execution_count": null,
   "metadata": {},
   "outputs": [],
   "source": [
    "!which python"
   ]
  },
  {
   "cell_type": "markdown",
   "metadata": {},
   "source": [
    "## Import packages"
   ]
  },
  {
   "cell_type": "code",
   "execution_count": null,
   "metadata": {},
   "outputs": [],
   "source": [
    "import numpy as np\n",
    "import pandas as pd\n"
   ]
  },
  {
   "cell_type": "markdown",
   "metadata": {},
   "source": [
    "### Question 1\n",
    "\n",
    "q: What's the version of Pandas that you installed?\n",
    "\n",
    "a: 2.1.0"
   ]
  },
  {
   "cell_type": "code",
   "execution_count": null,
   "metadata": {},
   "outputs": [],
   "source": [
    "print(f'{pd.__version__ = }')"
   ]
  },
  {
   "cell_type": "markdown",
   "metadata": {},
   "source": [
    "### Question 2\n",
    "\n",
    "q: How many columns are in the dataset?\n",
    "\n",
    "a: 10"
   ]
  },
  {
   "cell_type": "code",
   "execution_count": null,
   "metadata": {},
   "outputs": [],
   "source": [
    "df = pd.read_csv('../data/housing.csv')\n",
    "print(f'{df.shape =}')"
   ]
  },
  {
   "cell_type": "code",
   "execution_count": null,
   "metadata": {},
   "outputs": [],
   "source": [
    "df.info()"
   ]
  },
  {
   "cell_type": "code",
   "execution_count": null,
   "metadata": {},
   "outputs": [],
   "source": [
    "\n",
    "numerical_cols = ['housing_median_age', 'total_rooms', 'total_bedrooms', 'population', 'households', 'median_income', 'median_house_value']"
   ]
  },
  {
   "cell_type": "code",
   "execution_count": null,
   "metadata": {},
   "outputs": [],
   "source": [
    "df['housing_median_age'].plot.box()"
   ]
  },
  {
   "cell_type": "code",
   "execution_count": null,
   "metadata": {},
   "outputs": [],
   "source": [
    "df['total_bedrooms'].plot.box()\n"
   ]
  },
  {
   "cell_type": "markdown",
   "metadata": {},
   "source": [
    "### Question 3\n",
    "\n",
    "q: Which columns in the dataset have missing values?\n",
    "\n",
    "a: 'total_bedrooms'"
   ]
  },
  {
   "cell_type": "code",
   "execution_count": null,
   "metadata": {},
   "outputs": [],
   "source": [
    "df.isnull().sum()"
   ]
  },
  {
   "cell_type": "code",
   "execution_count": null,
   "metadata": {},
   "outputs": [],
   "source": [
    "df.columns[df.isnull().sum() > 0]"
   ]
  },
  {
   "cell_type": "markdown",
   "metadata": {},
   "source": [
    "### Question 4\n",
    "\n",
    "q: How many unique values does the `ocean_proximity` column have?\n",
    "\n",
    "a: 5"
   ]
  },
  {
   "cell_type": "code",
   "execution_count": null,
   "metadata": {},
   "outputs": [],
   "source": [
    "df['ocean_proximity'].nunique()"
   ]
  },
  {
   "cell_type": "code",
   "execution_count": null,
   "metadata": {},
   "outputs": [],
   "source": [
    "df['ocean_proximity'].value_counts()"
   ]
  },
  {
   "cell_type": "markdown",
   "metadata": {},
   "source": [
    "### Question 5\n",
    "\n",
    "q: What's the average value of the `median_house_value` for the houses located near the bay?\n",
    "\n",
    "a: "
   ]
  },
  {
   "cell_type": "code",
   "execution_count": null,
   "metadata": {},
   "outputs": [],
   "source": [
    "df[df['ocean_proximity'] == 'NEAR BAY']['median_house_value'].mean()"
   ]
  },
  {
   "cell_type": "markdown",
   "metadata": {},
   "source": [
    "### Question 6\n",
    "\n",
    "q: \n",
    "\n",
    "1. Calculate the average of `total_bedrooms` column in the dataset.\n",
    "1. Use the `fillna` method to fill the missing values in `total_bedrooms` with the mean value from the previous step.\n",
    "1. Now, calculate the average of `total_bedrooms` again.\n",
    "1. Has it changed?\n",
    "\n",
    "\n",
    "a: No\n",
    "\n",
    "1. 537.871\n",
    "2. \n",
    "3. 537.871\n",
    "4. "
   ]
  },
  {
   "cell_type": "code",
   "execution_count": null,
   "metadata": {},
   "outputs": [],
   "source": [
    "df['total_bedrooms'].value_counts()"
   ]
  },
  {
   "cell_type": "code",
   "execution_count": null,
   "metadata": {},
   "outputs": [],
   "source": [
    "df.columns[df.isnull().sum() > 0]"
   ]
  },
  {
   "cell_type": "code",
   "execution_count": null,
   "metadata": {},
   "outputs": [],
   "source": [
    "mean_before_fill = df['total_bedrooms'].mean()\n",
    "median_before_fill = df['total_bedrooms'].median()"
   ]
  },
  {
   "cell_type": "code",
   "execution_count": null,
   "metadata": {},
   "outputs": [],
   "source": [
    "df_mean = df.copy()\n",
    "df_median = df.copy()"
   ]
  },
  {
   "cell_type": "code",
   "execution_count": null,
   "metadata": {},
   "outputs": [],
   "source": [
    "df_mean['total_bedrooms'] = df['total_bedrooms'].fillna(mean_before_fill)\n",
    "df_median['total_bedrooms'] = df['total_bedrooms'].fillna(median_before_fill)"
   ]
  },
  {
   "cell_type": "code",
   "execution_count": null,
   "metadata": {},
   "outputs": [],
   "source": [
    "df_mean.columns[df_mean.isnull().sum() > 0]"
   ]
  },
  {
   "cell_type": "code",
   "execution_count": null,
   "metadata": {},
   "outputs": [],
   "source": [
    "mean_after_fill = df_mean['total_bedrooms'].mean()\n",
    "median_after_fill = df_median['total_bedrooms'].median()\n",
    "print(f'mean before fillna: {mean_before_fill:.3f}')\n",
    "print(f'mean after fillna: {mean_after_fill:.3f}')\n",
    "print()\n",
    "print(f'median before fillna: {median_before_fill:.3f}')\n",
    "print(f'median after fillna: {median_after_fill:.3f}')"
   ]
  },
  {
   "cell_type": "markdown",
   "metadata": {},
   "source": [
    "q: Is it different when `median` is used instead of `mean`?\n",
    "a: No"
   ]
  },
  {
   "cell_type": "markdown",
   "metadata": {},
   "source": [
    "### Question 7\n",
    "\n",
    "q:\n",
    "\n",
    "1. Select all the options located on islands.\n",
    "1. Select only columns housing_median_age, total_rooms, total_bedrooms.\n",
    "1. Get the underlying NumPy array. Let's call it X.\n",
    "1. Compute matrix-matrix multiplication between the transpose of X and X. To get the transpose, use X.T. Let's call the result XTX.\n",
    "1. Compute the inverse of XTX.\n",
    "1. Create an array y with values [950, 1300, 800, 1000, 1300].\n",
    "1. Multiply the inverse of XTX with the transpose of X, and then multiply the result by y. Call the result w.\n",
    "1. What's the value of the last element of w?\n",
    "\n",
    "\n",
    "a: code snippets below\n",
    "\n",
    "1. Select all the options located on islands."
   ]
  },
  {
   "cell_type": "code",
   "execution_count": null,
   "metadata": {},
   "outputs": [],
   "source": [
    "islands = df[df['ocean_proximity'] == 'ISLAND']"
   ]
  },
  {
   "cell_type": "markdown",
   "metadata": {},
   "source": [
    "2. Select only columns housing_median_age, total_rooms, total_bedrooms."
   ]
  },
  {
   "cell_type": "code",
   "execution_count": null,
   "metadata": {},
   "outputs": [],
   "source": [
    "subset = islands[['housing_median_age', 'total_rooms', 'total_bedrooms']]"
   ]
  },
  {
   "cell_type": "markdown",
   "metadata": {},
   "source": [
    "3. Get the underlying NumPy array. Let's call it X."
   ]
  },
  {
   "cell_type": "code",
   "execution_count": null,
   "metadata": {},
   "outputs": [],
   "source": [
    "X = subset.to_numpy()"
   ]
  },
  {
   "cell_type": "code",
   "execution_count": null,
   "metadata": {},
   "outputs": [],
   "source": [
    "print(f'{X.shape = }')\n",
    "print(f'{X.T.shape = }')"
   ]
  },
  {
   "cell_type": "markdown",
   "metadata": {},
   "source": [
    "4. Compute matrix-matrix multiplication between the transpose of X and X. To get the transpose, use X.T. Let's call the result XTX."
   ]
  },
  {
   "cell_type": "code",
   "execution_count": null,
   "metadata": {},
   "outputs": [],
   "source": [
    "XTX = X.T @ X\n",
    "XTX"
   ]
  },
  {
   "cell_type": "markdown",
   "metadata": {},
   "source": [
    "5. Compute the inverse of XTX."
   ]
  },
  {
   "cell_type": "code",
   "execution_count": null,
   "metadata": {},
   "outputs": [],
   "source": [
    "XTX_inv = np.linalg.inv(XTX)\n",
    "XTX_inv"
   ]
  },
  {
   "cell_type": "markdown",
   "metadata": {},
   "source": [
    "6. Create an array y with values [950, 1300, 800, 1000, 1300]."
   ]
  },
  {
   "cell_type": "code",
   "execution_count": null,
   "metadata": {},
   "outputs": [],
   "source": [
    "y = np.array([950, 1300, 800, 1000, 1300])\n",
    "y"
   ]
  },
  {
   "cell_type": "markdown",
   "metadata": {},
   "source": [
    "7. Multiply the inverse of XTX with the transpose of X, and then multiply the result by y. Call the result w."
   ]
  },
  {
   "cell_type": "code",
   "execution_count": null,
   "metadata": {},
   "outputs": [],
   "source": [
    "w = np.matmul(np.matmul(np.linalg.inv(XTX), X.T), y)"
   ]
  },
  {
   "cell_type": "code",
   "execution_count": null,
   "metadata": {},
   "outputs": [],
   "source": [
    "XTX_inv @ X.T @ y"
   ]
  },
  {
   "cell_type": "markdown",
   "metadata": {},
   "source": [
    "8. What's the value of the last element of w?"
   ]
  },
  {
   "cell_type": "code",
   "execution_count": null,
   "metadata": {},
   "outputs": [],
   "source": [
    "w[-1]"
   ]
  }
 ],
 "metadata": {
  "kernelspec": {
   "display_name": "zoomcamp",
   "language": "python",
   "name": "python3"
  },
  "language_info": {
   "codemirror_mode": {
    "name": "ipython",
    "version": 3
   },
   "file_extension": ".py",
   "mimetype": "text/x-python",
   "name": "python",
   "nbconvert_exporter": "python",
   "pygments_lexer": "ipython3",
   "version": "3.9.18"
  },
  "orig_nbformat": 4
 },
 "nbformat": 4,
 "nbformat_minor": 2
}
