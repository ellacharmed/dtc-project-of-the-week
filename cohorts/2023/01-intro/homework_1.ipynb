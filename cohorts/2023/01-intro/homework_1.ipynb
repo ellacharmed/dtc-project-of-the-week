{
 "cells": [
  {
   "cell_type": "markdown",
   "id": "251d40a3",
   "metadata": {
    "id": "251d40a3"
   },
   "source": [
    "## Homework #1"
   ]
  },
  {
   "cell_type": "markdown",
   "id": "b1cfc63c",
   "metadata": {
    "id": "b1cfc63c"
   },
   "source": [
    "### Set up the environment"
   ]
  },
  {
   "cell_type": "markdown",
   "id": "545d3529",
   "metadata": {
    "id": "545d3529"
   },
   "source": [
    "You need to install Python, NumPy, Pandas, Matplotlib and Seaborn. For that, you can the instructions from <a href='https://github.com/alexeygrigorev/mlbookcamp-code/blob/master/course-zoomcamp/01-intro/06-environment.md'>06-environment.md</a>."
   ]
  },
  {
   "cell_type": "code",
   "execution_count": null,
   "id": "92a54c41",
   "metadata": {
    "executionInfo": {
     "elapsed": 706,
     "status": "ok",
     "timestamp": 1694208135401,
     "user": {
      "displayName": "Timur Kamaliev",
      "userId": "12270392991844786490"
     },
     "user_tz": -180
    },
    "id": "92a54c41",
    "tags": []
   },
   "outputs": [],
   "source": [
    "import numpy as np\n",
    "import pandas as pd"
   ]
  },
  {
   "cell_type": "markdown",
   "id": "351c8283",
   "metadata": {
    "id": "351c8283"
   },
   "source": [
    "### Question 1"
   ]
  },
  {
   "cell_type": "markdown",
   "id": "e8024830",
   "metadata": {
    "id": "e8024830"
   },
   "source": [
    "What's the version of Pandas that you installed?\n",
    "\n",
    "You can get the version information using the `__version__` field:"
   ]
  },
  {
   "cell_type": "code",
   "execution_count": null,
   "id": "cd014841",
   "metadata": {
    "colab": {
     "base_uri": "https://localhost:8080/",
     "height": 36
    },
    "executionInfo": {
     "elapsed": 8,
     "status": "ok",
     "timestamp": 1694208136053,
     "user": {
      "displayName": "Timur Kamaliev",
      "userId": "12270392991844786490"
     },
     "user_tz": -180
    },
    "id": "cd014841",
    "outputId": "69d7c606-95a6-4a40-98a0-0f85927705e2",
    "tags": []
   },
   "outputs": [],
   "source": [
    "pd.__version__"
   ]
  },
  {
   "cell_type": "markdown",
   "id": "4ceefa5c",
   "metadata": {
    "id": "4ceefa5c"
   },
   "source": [
    "### Getting the data"
   ]
  },
  {
   "cell_type": "markdown",
   "id": "2cf7db9d",
   "metadata": {
    "id": "2cf7db9d"
   },
   "source": [
    "For this homework, we'll use the California Housing Prices dataset. Download it from <a href='https://raw.githubusercontent.com/alexeygrigorev/datasets/master/housing.csv'>here</a>.\n",
    "\n",
    "You can do it with wget:\n",
    "```bash\n",
    "wget https://raw.githubusercontent.com/alexeygrigorev/datasets/master/housing.csv\n",
    "```\n",
    "Or just open it with your browser and click \"Save as...\".\n",
    "\n",
    "Now read it with Pandas."
   ]
  },
  {
   "cell_type": "code",
   "execution_count": null,
   "id": "1fa83ea3",
   "metadata": {
    "executionInfo": {
     "elapsed": 284,
     "status": "ok",
     "timestamp": 1694208138879,
     "user": {
      "displayName": "Timur Kamaliev",
      "userId": "12270392991844786490"
     },
     "user_tz": -180
    },
    "id": "1fa83ea3",
    "tags": []
   },
   "outputs": [],
   "source": [
    "data = pd.read_csv(\"https://raw.githubusercontent.com/alexeygrigorev/datasets/master/housing.csv\")"
   ]
  },
  {
   "cell_type": "code",
   "execution_count": null,
   "id": "cf2aa356",
   "metadata": {
    "colab": {
     "base_uri": "https://localhost:8080/",
     "height": 206
    },
    "executionInfo": {
     "elapsed": 7,
     "status": "ok",
     "timestamp": 1694208139499,
     "user": {
      "displayName": "Timur Kamaliev",
      "userId": "12270392991844786490"
     },
     "user_tz": -180
    },
    "id": "cf2aa356",
    "outputId": "319e25c2-3ce0-45bd-e707-8b124a62fd3d",
    "tags": []
   },
   "outputs": [],
   "source": [
    "data.head()"
   ]
  },
  {
   "cell_type": "markdown",
   "id": "aecac649",
   "metadata": {
    "id": "aecac649"
   },
   "source": [
    "### Question 2"
   ]
  },
  {
   "cell_type": "markdown",
   "id": "ab65645c",
   "metadata": {
    "id": "ab65645c"
   },
   "source": [
    "How many columns are in the dataset?"
   ]
  },
  {
   "cell_type": "code",
   "execution_count": null,
   "id": "c73d4d30",
   "metadata": {
    "colab": {
     "base_uri": "https://localhost:8080/"
    },
    "executionInfo": {
     "elapsed": 286,
     "status": "ok",
     "timestamp": 1694208141779,
     "user": {
      "displayName": "Timur Kamaliev",
      "userId": "12270392991844786490"
     },
     "user_tz": -180
    },
    "id": "c73d4d30",
    "outputId": "e16c4908-c136-49ff-b6a5-b9168e06f18c",
    "tags": []
   },
   "outputs": [],
   "source": [
    "data.shape[1]"
   ]
  },
  {
   "cell_type": "markdown",
   "id": "b5d128d0",
   "metadata": {
    "id": "b5d128d0"
   },
   "source": [
    "### Question 3"
   ]
  },
  {
   "cell_type": "markdown",
   "id": "e414e926",
   "metadata": {
    "id": "e414e926"
   },
   "source": [
    "Which columns in the dataset have missing values?"
   ]
  },
  {
   "cell_type": "code",
   "execution_count": null,
   "id": "7e6b2e07-871d-405c-a7aa-bc957ed4e530",
   "metadata": {
    "colab": {
     "base_uri": "https://localhost:8080/"
    },
    "executionInfo": {
     "elapsed": 301,
     "status": "ok",
     "timestamp": 1694208145679,
     "user": {
      "displayName": "Timur Kamaliev",
      "userId": "12270392991844786490"
     },
     "user_tz": -180
    },
    "id": "7e6b2e07-871d-405c-a7aa-bc957ed4e530",
    "outputId": "6d9697ce-752f-4a9c-aebc-486be364ed88",
    "tags": []
   },
   "outputs": [],
   "source": [
    "data.isna().sum()"
   ]
  },
  {
   "cell_type": "markdown",
   "id": "ctux01eQsN2p",
   "metadata": {
    "id": "ctux01eQsN2p"
   },
   "source": [
    "`total_bedrooms`"
   ]
  },
  {
   "cell_type": "markdown",
   "id": "90b3262c",
   "metadata": {
    "id": "90b3262c"
   },
   "source": [
    "### Question 4"
   ]
  },
  {
   "cell_type": "markdown",
   "id": "JtB8acmV4jrf",
   "metadata": {
    "id": "JtB8acmV4jrf"
   },
   "source": [
    "How many unique values does the `ocean_proximity` column have?"
   ]
  },
  {
   "cell_type": "code",
   "execution_count": null,
   "id": "FYEvOXA4tM5H",
   "metadata": {
    "colab": {
     "base_uri": "https://localhost:8080/"
    },
    "executionInfo": {
     "elapsed": 239,
     "status": "ok",
     "timestamp": 1694208150475,
     "user": {
      "displayName": "Timur Kamaliev",
      "userId": "12270392991844786490"
     },
     "user_tz": -180
    },
    "id": "FYEvOXA4tM5H",
    "outputId": "01f8a77f-adf5-43f7-cd83-92e3af063133"
   },
   "outputs": [],
   "source": [
    "data.ocean_proximity.value_counts()"
   ]
  },
  {
   "cell_type": "code",
   "execution_count": null,
   "id": "LCajFeoI48aU",
   "metadata": {
    "colab": {
     "base_uri": "https://localhost:8080/"
    },
    "executionInfo": {
     "elapsed": 238,
     "status": "ok",
     "timestamp": 1694208152021,
     "user": {
      "displayName": "Timur Kamaliev",
      "userId": "12270392991844786490"
     },
     "user_tz": -180
    },
    "id": "LCajFeoI48aU",
    "outputId": "33e7c4fc-f98a-40de-9465-d10719acad05"
   },
   "outputs": [],
   "source": [
    "data.ocean_proximity.nunique()"
   ]
  },
  {
   "cell_type": "markdown",
   "id": "987507a8",
   "metadata": {
    "id": "987507a8"
   },
   "source": [
    "### Question 5"
   ]
  },
  {
   "cell_type": "markdown",
   "id": "n0kM9M3O3Zuz",
   "metadata": {
    "id": "n0kM9M3O3Zuz"
   },
   "source": [
    "What's the average value of the `median_house_value` for the house located near the bay?"
   ]
  },
  {
   "cell_type": "code",
   "execution_count": null,
   "id": "SgnkG0qUvJMd",
   "metadata": {
    "colab": {
     "base_uri": "https://localhost:8080/",
     "height": 237
    },
    "executionInfo": {
     "elapsed": 247,
     "status": "ok",
     "timestamp": 1694208167900,
     "user": {
      "displayName": "Timur Kamaliev",
      "userId": "12270392991844786490"
     },
     "user_tz": -180
    },
    "id": "SgnkG0qUvJMd",
    "outputId": "110e64c6-859b-4a16-9f3f-3fd0b4163c6e"
   },
   "outputs": [],
   "source": [
    "data.groupby('ocean_proximity')['median_house_value'].agg(['min', 'mean', 'max'])"
   ]
  },
  {
   "cell_type": "code",
   "execution_count": null,
   "id": "McMWSfTPtqDR",
   "metadata": {
    "colab": {
     "base_uri": "https://localhost:8080/"
    },
    "executionInfo": {
     "elapsed": 272,
     "status": "ok",
     "timestamp": 1694208169667,
     "user": {
      "displayName": "Timur Kamaliev",
      "userId": "12270392991844786490"
     },
     "user_tz": -180
    },
    "id": "McMWSfTPtqDR",
    "outputId": "a1782e85-9771-4e22-f882-85e1bcd4ab72"
   },
   "outputs": [],
   "source": [
    "data[data.ocean_proximity == 'NEAR BAY']['median_house_value'].mean()"
   ]
  },
  {
   "cell_type": "markdown",
   "id": "a5758929",
   "metadata": {
    "id": "a5758929"
   },
   "source": [
    "### Question 6"
   ]
  },
  {
   "cell_type": "markdown",
   "id": "0c359a2a",
   "metadata": {
    "id": "0c359a2a"
   },
   "source": [
    "\n",
    "\n",
    "1. Calculate the average of `total_bedrooms` column in the dataset\n",
    "2. Use the `fillna` method and to fill the missing values in `total_bedrooms` with the mean value from the previous step.\n",
    "3. Now, calcualte the average of `total_bedrooms` again.\n",
    "4. Has it changed?\n",
    "\n",
    "> **Note**: take into account only 3 digits after the decimal point"
   ]
  },
  {
   "cell_type": "code",
   "execution_count": null,
   "id": "h50zj0Na5p6y",
   "metadata": {
    "colab": {
     "base_uri": "https://localhost:8080/"
    },
    "executionInfo": {
     "elapsed": 277,
     "status": "ok",
     "timestamp": 1694210300971,
     "user": {
      "displayName": "Timur Kamaliev",
      "userId": "12270392991844786490"
     },
     "user_tz": -180
    },
    "id": "h50zj0Na5p6y",
    "outputId": "07067b58-ce33-45f3-f784-ff689d336544"
   },
   "outputs": [],
   "source": [
    "mean_bedrooms = data['total_bedrooms'].mean()\n",
    "mean_bedrooms"
   ]
  },
  {
   "cell_type": "code",
   "execution_count": null,
   "id": "lW-cYPtprtGX",
   "metadata": {
    "colab": {
     "base_uri": "https://localhost:8080/"
    },
    "executionInfo": {
     "elapsed": 246,
     "status": "ok",
     "timestamp": 1694208397959,
     "user": {
      "displayName": "Timur Kamaliev",
      "userId": "12270392991844786490"
     },
     "user_tz": -180
    },
    "id": "lW-cYPtprtGX",
    "outputId": "1566f283-0337-463f-f5b2-7dc795f48114"
   },
   "outputs": [],
   "source": [
    "data['total_bedrooms'].fillna(mean_bedrooms).mean()"
   ]
  },
  {
   "cell_type": "markdown",
   "id": "7b1263c0",
   "metadata": {
    "id": "7b1263c0"
   },
   "source": [
    "No, it's left the same."
   ]
  },
  {
   "cell_type": "markdown",
   "id": "3f44769a",
   "metadata": {
    "id": "3f44769a"
   },
   "source": [
    "### Question 7"
   ]
  },
  {
   "cell_type": "markdown",
   "id": "fe2faf20",
   "metadata": {
    "id": "fe2faf20"
   },
   "source": [
    "1. Select all the options located on islands.\n",
    "2. Select only columns `housing_median_age`, `total_rooms`, `total_bedrooms`.\n",
    "3. Get the underlying NumPy array. Let's call it `X`.\n",
    "4. Compute matrix-matrix multiplication between the transpose of `X` and `X`. To get the transpose, use `X.T`. Let's call the result `XTX`.\n",
    "5. Invert `XTX`.\n",
    "6. Create an array `y` with values `[950, 1300, 800, 1000, 1300]`.\n",
    "7. Multiply the inverse of `XTX` with the transpose of `X`, and then multiply the result by `y`. Call the result `w`.\n",
    "8. What's the value of the last element of `w`?"
   ]
  },
  {
   "cell_type": "code",
   "execution_count": null,
   "id": "HhziJLnz6azH",
   "metadata": {
    "colab": {
     "base_uri": "https://localhost:8080/",
     "height": 206
    },
    "executionInfo": {
     "elapsed": 8,
     "status": "ok",
     "timestamp": 1694210142110,
     "user": {
      "displayName": "Timur Kamaliev",
      "userId": "12270392991844786490"
     },
     "user_tz": -180
    },
    "id": "HhziJLnz6azH",
    "outputId": "0e8337e0-4942-4fba-c841-9d5999e5cf69"
   },
   "outputs": [],
   "source": [
    "island_df = data[data.ocean_proximity == 'ISLAND']\n",
    "island_df = island_df[['housing_median_age', 'total_rooms', 'total_bedrooms']]\n",
    "island_df"
   ]
  },
  {
   "cell_type": "code",
   "execution_count": null,
   "id": "BMSgjlTV6a48",
   "metadata": {
    "colab": {
     "base_uri": "https://localhost:8080/"
    },
    "executionInfo": {
     "elapsed": 241,
     "status": "ok",
     "timestamp": 1694209443845,
     "user": {
      "displayName": "Timur Kamaliev",
      "userId": "12270392991844786490"
     },
     "user_tz": -180
    },
    "id": "BMSgjlTV6a48",
    "outputId": "94d51bb0-019c-4180-97da-201c850da575"
   },
   "outputs": [],
   "source": [
    "X = island_df.values\n",
    "XTX = X.T.dot(X)\n",
    "\n",
    "XTX_inv = np.linalg.inv(XTX)\n",
    "XTX_inv"
   ]
  },
  {
   "cell_type": "code",
   "execution_count": null,
   "id": "0AoSPilS6a7S",
   "metadata": {
    "executionInfo": {
     "elapsed": 5,
     "status": "ok",
     "timestamp": 1694209445937,
     "user": {
      "displayName": "Timur Kamaliev",
      "userId": "12270392991844786490"
     },
     "user_tz": -180
    },
    "id": "0AoSPilS6a7S"
   },
   "outputs": [],
   "source": [
    "y = np.array([950, 1300, 800, 1000, 1300])"
   ]
  },
  {
   "cell_type": "code",
   "execution_count": null,
   "id": "dz3BmJfIvfdp",
   "metadata": {
    "executionInfo": {
     "elapsed": 3,
     "status": "ok",
     "timestamp": 1694209446791,
     "user": {
      "displayName": "Timur Kamaliev",
      "userId": "12270392991844786490"
     },
     "user_tz": -180
    },
    "id": "dz3BmJfIvfdp"
   },
   "outputs": [],
   "source": [
    "w = (XTX_inv @ X.T) @ y"
   ]
  },
  {
   "cell_type": "code",
   "execution_count": null,
   "id": "5e62860c-4afe-4a33-942f-ec238924b027",
   "metadata": {
    "tags": []
   },
   "outputs": [],
   "source": [
    "w"
   ]
  },
  {
   "cell_type": "code",
   "execution_count": null,
   "id": "ouoIQygN6bD3",
   "metadata": {
    "colab": {
     "base_uri": "https://localhost:8080/"
    },
    "executionInfo": {
     "elapsed": 5,
     "status": "ok",
     "timestamp": 1694209447851,
     "user": {
      "displayName": "Timur Kamaliev",
      "userId": "12270392991844786490"
     },
     "user_tz": -180
    },
    "id": "ouoIQygN6bD3",
    "outputId": "895ebf5f-51b4-4ec5-ae5b-dce89abb2cb5"
   },
   "outputs": [],
   "source": [
    "w[2]"
   ]
  },
  {
   "cell_type": "markdown",
   "id": "70e3eaa9",
   "metadata": {
    "id": "70e3eaa9"
   },
   "source": [
    "> **Note**: we just implemented normal equation\n",
    "\n",
    "\n",
    "$$w = (X^T X)^{-1} X^T y$$\n",
    "\n",
    "\n",
    "We'll talk about it more in the next week (Machine Learning for Regression)"
   ]
  }
 ],
 "metadata": {
  "colab": {
   "provenance": []
  },
  "kernelspec": {
   "display_name": "Python 3 (ipykernel)",
   "language": "python",
   "name": "python3"
  },
  "language_info": {
   "codemirror_mode": {
    "name": "ipython",
    "version": 3
   },
   "file_extension": ".py",
   "mimetype": "text/x-python",
   "name": "python",
   "nbconvert_exporter": "python",
   "pygments_lexer": "ipython3",
   "version": "3.10.12"
  }
 },
 "nbformat": 4,
 "nbformat_minor": 5
}
