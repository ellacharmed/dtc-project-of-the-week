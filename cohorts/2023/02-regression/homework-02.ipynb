{
 "cells": [
  {
   "cell_type": "markdown",
   "metadata": {},
   "source": [
    "# Homework for week02\n",
    "\n",
    "> The goal of this homework is to create a regression model for predicting housing prices (column `'median_house_value'`).\n",
    "\n",
    "We'll be using the same dataset from homework-01.\n",
    "\n",
    "> In this homework, we will use the California Housing Prices from Kaggle.\n"
   ]
  },
  {
   "cell_type": "code",
   "execution_count": null,
   "metadata": {},
   "outputs": [],
   "source": [
    "import numpy as np\n",
    "import pandas as pd"
   ]
  },
  {
   "cell_type": "code",
   "execution_count": null,
   "metadata": {},
   "outputs": [],
   "source": [
    "# !wget -P ../data https://raw.githubusercontent.com/alexeygrigorev/datasets/master/housing.csv"
   ]
  },
  {
   "cell_type": "code",
   "execution_count": null,
   "metadata": {},
   "outputs": [],
   "source": [
    "data = pd.read_csv('../data/housing.csv')\n",
    "print(f'{data.shape =}')"
   ]
  },
  {
   "cell_type": "markdown",
   "metadata": {},
   "source": [
    "## EDA"
   ]
  },
  {
   "cell_type": "code",
   "execution_count": null,
   "metadata": {},
   "outputs": [],
   "source": [
    "data['median_house_value'].plot.box()"
   ]
  },
  {
   "cell_type": "code",
   "execution_count": null,
   "metadata": {},
   "outputs": [],
   "source": [
    "data['median_house_value'].describe(percentiles=[.1, .25, .5, .75, .9])"
   ]
  },
  {
   "cell_type": "markdown",
   "metadata": {},
   "source": [
    "> Look at the `median_house_value` variable. Does it have a long tail? \n",
    "\n",
    "A: Yes."
   ]
  },
  {
   "cell_type": "code",
   "execution_count": null,
   "metadata": {},
   "outputs": [],
   "source": [
    "data['median_house_value'].plot.hist()"
   ]
  },
  {
   "cell_type": "code",
   "execution_count": null,
   "metadata": {},
   "outputs": [],
   "source": [
    "import matplotlib.pyplot as plt\n",
    "import seaborn as sns\n",
    "\n",
    "%matplotlib inline\n",
    "\n",
    "sns.histplot(data.median_house_value)"
   ]
  },
  {
   "cell_type": "markdown",
   "metadata": {},
   "source": [
    "## Preparing the dataset\n",
    "\n",
    "> First, keep only the records where `ocean_proximity` is either `'<1H OCEAN'` or `'INLAND'`\n",
    "> \n",
    "> Next, use only the following columns:\n",
    ">\n",
    "> * `'latitude'`,\n",
    "> * `'longitude'`,\n",
    "> * `'housing_median_age'`,\n",
    "> * `'total_rooms'`,\n",
    "> * `'total_bedrooms'`,\n",
    "> * `'population'`,\n",
    "> * `'households'`,\n",
    "> * `'median_income'`,\n",
    "> * `'median_house_value'`"
   ]
  },
  {
   "cell_type": "code",
   "execution_count": null,
   "metadata": {},
   "outputs": [],
   "source": [
    "ocean_inland = data.query(\"ocean_proximity == '<1H OCEAN' or ocean_proximity == 'INLAND'\")\n",
    "print(ocean_inland['ocean_proximity'].value_counts())\n",
    "print(ocean_inland.columns)"
   ]
  },
  {
   "cell_type": "code",
   "execution_count": null,
   "metadata": {},
   "outputs": [],
   "source": [
    "df = ocean_inland.drop(labels='ocean_proximity', axis=1)"
   ]
  },
  {
   "cell_type": "code",
   "execution_count": null,
   "metadata": {},
   "outputs": [],
   "source": [
    "print(df.columns)"
   ]
  },
  {
   "cell_type": "markdown",
   "metadata": {},
   "source": [
    "### Question 1\n",
    "\n",
    "q: There's one feature with missing values. What is it?\n",
    "\n",
    "a: `total_bedrooms`"
   ]
  },
  {
   "cell_type": "code",
   "execution_count": null,
   "metadata": {},
   "outputs": [],
   "source": [
    "df.isnull().sum()"
   ]
  },
  {
   "cell_type": "markdown",
   "metadata": {},
   "source": [
    "### Question 2\n",
    "\n",
    "Q: What's the median (50% percentile) for variable 'population'?\n",
    "\n",
    "A: 1195"
   ]
  },
  {
   "cell_type": "code",
   "execution_count": null,
   "metadata": {},
   "outputs": [],
   "source": [
    "df.population.median()"
   ]
  },
  {
   "cell_type": "markdown",
   "metadata": {},
   "source": [
    "### Prepare and split the dataset\n",
    "\n",
    "- Shuffle the dataset (the filtered one you created above), use seed 42.\n",
    "- Split your data in train/val/test sets, with 60%/20%/20% distribution.\n",
    "- Apply the log transformation to the median_house_value variable using the np.log1p() function.\n"
   ]
  },
  {
   "cell_type": "code",
   "execution_count": null,
   "metadata": {},
   "outputs": [],
   "source": [
    "n = len(df)\n",
    "n_val = int(n * 0.2)\n",
    "n_test = int(n * 0.2)\n",
    "n_train = n - n_val - n_test\n",
    "print(n, n_train, n_val, n_test)"
   ]
  },
  {
   "cell_type": "code",
   "execution_count": null,
   "metadata": {},
   "outputs": [],
   "source": [
    "idx = np.arange(n)\n",
    "\n",
    "np.random.seed(42)\n",
    "np.random.shuffle(idx)"
   ]
  },
  {
   "cell_type": "code",
   "execution_count": null,
   "metadata": {},
   "outputs": [],
   "source": [
    "df_train = df.iloc[idx[:n_train]]\n",
    "df_val = df.iloc[idx[n_train:n_val+n_train]]\n",
    "df_test = df.iloc[idx[n_val+n_train:]]\n",
    "print(len(df_train), len(df_val), len(df_test))"
   ]
  },
  {
   "cell_type": "code",
   "execution_count": null,
   "metadata": {},
   "outputs": [],
   "source": [
    "df_train = df_train.reset_index(drop=True)\n",
    "df_val = df_val.reset_index(drop=True)\n",
    "df_test = df_test.reset_index(drop=True)"
   ]
  },
  {
   "cell_type": "code",
   "execution_count": null,
   "metadata": {},
   "outputs": [],
   "source": [
    "y_train = np.log1p(df_train.median_house_value.values)\n",
    "y_val = np.log1p(df_val.median_house_value.values)\n",
    "y_test = np.log1p(df_test.median_house_value.values)\n",
    "print(len(y_train), len(y_val), len(y_test))"
   ]
  },
  {
   "cell_type": "code",
   "execution_count": null,
   "metadata": {},
   "outputs": [],
   "source": [
    "del df_train['median_house_value']\n",
    "del df_val['median_house_value']\n",
    "del df_test['median_house_value']"
   ]
  },
  {
   "cell_type": "code",
   "execution_count": null,
   "metadata": {},
   "outputs": [],
   "source": [
    "n = len(df)\n",
    "n_val = int(n * 0.2)\n",
    "n_test = int(n * 0.2)\n",
    "n_train = n - n_val - n_test\n",
    "idx = np.arange(n)\n",
    "\n",
    "def shuffle_split(seed=42):\n",
    "    np.random.seed(seed)\n",
    "    np.random.shuffle(idx)\n",
    "    train = df.iloc[idx[:n_train]]\n",
    "    val = df.iloc[idx[n_train:n_val+n_train]]\n",
    "    test = df.iloc[idx[n_val+n_train:]]\n",
    "\n",
    "    # print(len(train), len(val), len(test))\n",
    "    return train, val, test\n",
    "\n",
    "\n",
    "def prepare_X_y(df, fill):\n",
    "\n",
    "    df = df.fillna(fill)\n",
    "    y = np.log1p(df.median_house_value.values)\n",
    "    del df['median_house_value']\n",
    "    X = df.values\n",
    "    # print(X.shape, y.shape)\n",
    "    return X, y\n"
   ]
  },
  {
   "cell_type": "markdown",
   "metadata": {},
   "source": [
    "### Question 3\n",
    "\n",
    "1. We need to deal with missing values for the column from Q1.\n",
    "1. We have two options: fill it with 0 or with the mean of this variable.\n",
    "1. Try both options. For each, train a linear regression model without regularization using the code from the lessons.\n",
    "1. For computing the mean, use the training only!\n",
    "1. Use the validation dataset to evaluate the models and compare the RMSE of each option.\n",
    "1. Round the RMSE scores to 2 decimal digits using round(score, 2)\n",
    "1. Which option gives better RMSE?\n",
    "\n",
    "A: both RMSE are the same"
   ]
  },
  {
   "cell_type": "code",
   "execution_count": null,
   "metadata": {},
   "outputs": [],
   "source": [
    "def train_linear_regression(X, y):\n",
    "    ones = np.ones(X.shape[0])\n",
    "    X = np.column_stack([ones, X])\n",
    "\n",
    "    XTX = X.T.dot(X)\n",
    "    XTX_inv = np.linalg.inv(XTX)\n",
    "    w_full = XTX_inv.dot(X.T).dot(y)\n",
    "    \n",
    "    return w_full[0], w_full[1:]\n",
    "\n",
    "def rmse(y, y_pred):\n",
    "    se = (y - y_pred) ** 2\n",
    "    mse = se.mean()\n",
    "    return np.sqrt(mse)\n"
   ]
  },
  {
   "cell_type": "markdown",
   "metadata": {},
   "source": [
    "#### fillna(0)"
   ]
  },
  {
   "cell_type": "code",
   "execution_count": null,
   "metadata": {},
   "outputs": [],
   "source": [
    "train, val, test = shuffle_split(42)\n",
    "X_train_0, y_train = prepare_X_y(train, 0)\n",
    "w0, w = train_linear_regression(X_train_0, y_train)\n",
    "\n",
    "X_val_0, y_val = prepare_X_y(val, 0)\n",
    "y_pred = w0 + X_val_0.dot(w)\n",
    "rmse_0 = rmse(y_val, y_pred)\n"
   ]
  },
  {
   "cell_type": "markdown",
   "metadata": {},
   "source": [
    "#### fillna(mean)"
   ]
  },
  {
   "cell_type": "code",
   "execution_count": null,
   "metadata": {},
   "outputs": [],
   "source": [
    "mean = df_train['total_bedrooms'].mean()\n",
    "\n",
    "X_train_mean, y_train = prepare_X_y(train, mean)\n",
    "w0, w = train_linear_regression(X_train_mean, y_train)\n",
    "\n",
    "X_val_mean, y_val = prepare_X_y(val, mean)\n",
    "y_pred = w0 + X_val_mean.dot(w)\n",
    "rmse_mean = rmse(y_val, y_pred)\n",
    "\n",
    "print(f'rmse_0 = {round(rmse_0, 2)}')\n",
    "print(f'rmse_mean = {round(rmse_mean, 2)}')"
   ]
  },
  {
   "cell_type": "markdown",
   "metadata": {},
   "source": [
    "### Question 4\n",
    "\n",
    "1. Now let's train a regularized linear regression.\n",
    "1. For this question, fill the NAs with 0.\n",
    "1. Try different values of r from this list: [0, 0.000001, 0.0001, 0.001, 0.01, 0.1, 1, 5, 10].\n",
    "1. Use RMSE to evaluate the model on the validation dataset.\n",
    "1. Round the RMSE scores to 2 decimal digits.\n",
    "1. Which r gives the best RMSE?\n",
    "\n",
    "If there are multiple options, select the smallest r.\n",
    "\n",
    "A: r=0, with rmse=0.34084790341590543"
   ]
  },
  {
   "cell_type": "code",
   "execution_count": null,
   "metadata": {},
   "outputs": [],
   "source": [
    "def train_linear_regression_reg(X, y, r=0.001):\n",
    "    ones = np.ones(X.shape[0])\n",
    "    X = np.column_stack([ones, X])\n",
    "\n",
    "    XTX = X.T.dot(X)\n",
    "    XTX = XTX + r * np.eye(XTX.shape[0])\n",
    "\n",
    "    XTX_inv = np.linalg.inv(XTX)\n",
    "    w_full = XTX_inv.dot(X.T).dot(y)\n",
    "    \n",
    "    return w_full[0], w_full[1:]\n"
   ]
  },
  {
   "cell_type": "code",
   "execution_count": null,
   "metadata": {},
   "outputs": [],
   "source": [
    "rmse_scores = {}\n",
    "r = [0, 0.000001, 0.0001, 0.001, 0.01, 0.1, 1, 5, 10]\n",
    "\n",
    "for num in r:\n",
    "    X_train, y_train = prepare_X_y(train, 0)\n",
    "    w0, w = train_linear_regression_reg(X_train, y_train, num)\n",
    "\n",
    "    X_val, y_val = prepare_X_y(val, 0)\n",
    "    y_pred = w0 + X_val.dot(w)\n",
    "    score = rmse(y_val, y_pred)\n",
    "    print(f'for r = {num}, rmse = {score:.2f}')\n",
    "    rmse_scores[num] = score\n",
    "\n",
    "print()\n",
    "print(sorted(rmse_scores.items(), key=lambda x:x[1]))"
   ]
  },
  {
   "cell_type": "code",
   "execution_count": null,
   "metadata": {},
   "outputs": [],
   "source": [
    "print(sorted(list(rmse_scores.values())))"
   ]
  },
  {
   "cell_type": "markdown",
   "metadata": {},
   "source": [
    "### Question 5\n",
    "\n",
    "1. We used seed 42 for splitting the data. Let's find out how selecting the seed influences our score.\n",
    "1. Try different seed values: [0, 1, 2, 3, 4, 5, 6, 7, 8, 9].\n",
    "1. For each seed, do the train/validation/test split with 60%/20%/20% distribution.\n",
    "1. Fill the missing values with 0 and train a model without regularization.\n",
    "1. For each seed, evaluate the model on the validation dataset and collect the RMSE scores.\n",
    "1. What's the standard deviation of all the scores? To compute the standard deviation, use np.std.\n",
    "1. Round the result to 3 decimal digits (round(std, 3))\n",
    "\n",
    "A: 0.005\n"
   ]
  },
  {
   "cell_type": "code",
   "execution_count": null,
   "metadata": {},
   "outputs": [],
   "source": [
    "def evaluate(train, val, fill=0):\n",
    "    X_train, y_train = prepare_X_y(train, fill)\n",
    "    w0, w = train_linear_regression(X_train, y_train)\n",
    "\n",
    "    X_val, y_val = prepare_X_y(val, fill)\n",
    "    y_pred = w0 + X_val.dot(w)\n",
    "    result = rmse(y_val, y_pred)\n",
    "    print(f'rmse = {result:.4f}')\n",
    "    return round(result, 3)\n"
   ]
  },
  {
   "cell_type": "code",
   "execution_count": null,
   "metadata": {},
   "outputs": [],
   "source": [
    "scores = []\n",
    "\n",
    "seed_values = [0, 1, 2, 3, 4, 5, 6, 7, 8, 9]\n",
    "\n",
    "for s in seed_values:\n",
    "    train, val, test = shuffle_split(s)\n",
    "    print(f'seed = {s}')\n",
    "    scores.append(evaluate(train, val, 0))\n",
    "    print()\n",
    "\n",
    "print()\n",
    "print(scores)\n",
    "    "
   ]
  },
  {
   "cell_type": "code",
   "execution_count": null,
   "metadata": {},
   "outputs": [],
   "source": [
    "std = np.std(scores)\n",
    "print(std)\n",
    "print(f'{round(std, 3)}')"
   ]
  },
  {
   "cell_type": "markdown",
   "metadata": {},
   "source": [
    "### Question 6\n",
    "\n",
    "1. Split the dataset like previously, use seed 9.\n",
    "1. Combine train and validation datasets.\n",
    "1. Fill the missing values with 0 and train a model with r=0.001.\n",
    "1. What's the RMSE on the test dataset?\n",
    "\n",
    "A: 0.33"
   ]
  },
  {
   "cell_type": "code",
   "execution_count": null,
   "metadata": {},
   "outputs": [],
   "source": [
    "train, val, test = shuffle_split(9)\n",
    "combined = pd.concat([train, val])\n",
    "\n",
    "X_combined, y_combined = prepare_X_y(combined, 0)\n",
    "w0, w = train_linear_regression_reg(X_combined, y_combined, r=0.001)\n",
    "\n",
    "X_test, y_test = prepare_X_y(test, 0)\n",
    "y_pred = w0 + X_test.dot(w)\n",
    "print(f'rmse = {round(rmse(y_test, y_pred), 2)}')\n"
   ]
  }
 ],
 "metadata": {
  "kernelspec": {
   "display_name": "zoomcamp",
   "language": "python",
   "name": "python3"
  },
  "language_info": {
   "codemirror_mode": {
    "name": "ipython",
    "version": 3
   },
   "file_extension": ".py",
   "mimetype": "text/x-python",
   "name": "python",
   "nbconvert_exporter": "python",
   "pygments_lexer": "ipython3",
   "version": "3.9.18"
  },
  "orig_nbformat": 4
 },
 "nbformat": 4,
 "nbformat_minor": 2
}
