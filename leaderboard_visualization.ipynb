{
 "cells": [
  {
   "cell_type": "markdown",
   "metadata": {},
   "source": [
    "[source](https://github.com/ai2ys/ml-zoomcamp/blob/main/leaderboard_visualization.ipynb) notebook by [Sylvia Schmitt](https://twitter.com/ai2ys)\n",
    "\n",
    "Instruction for running this leaderboard notebook with the provided :whale: Dockerfile and JupyterLab.\n",
    "\n",
    "1. Run the command **`docker compose run --rm --service-ports mlzoomcamp`** from the shell of the project base directory\n",
    "    ```bash\n",
    "    $ docker compose run --rm --service-ports mlzoomcamp\n",
    "    ```\n",
    "    The JupyterLab port defaults to `8888`. If required adapt the JupyterLab port can be changed at container startup by running the following command instead\n",
    "    ```bash\n",
    "    $ PORT_JNB=<port> docker compose run --rm --service-ports mlzoomcamp\n",
    "    ```\n",
    "\n",
    "2. After you see the shell of the container **`root@mlzoomcamp:/workspace#`** you can easily start JupyterLab using the alias **`jlab`** in the shell of the container. It will use the provided port from container startup.\n",
    "    ```bash\n",
    "    `root@mlzoomcamp:/workspace# jlab\n",
    "    \n",
    "    ```\n"
   ]
  },
  {
   "cell_type": "markdown",
   "metadata": {},
   "source": [
    "# Plotting histogram of total score\n",
    "\n",
    "Check your placement for total scores."
   ]
  },
  {
   "cell_type": "code",
   "execution_count": 1,
   "metadata": {},
   "outputs": [],
   "source": [
    "# !pip install lxml ipywidgets\n",
    "# !jupyter labextension install @jupyter-widgets/jupyterlab-manager\n",
    "# !micromamba install xlrd openpyxl"
   ]
  },
  {
   "cell_type": "markdown",
   "metadata": {},
   "source": [
    "***:information_source: Restart kernel after executing the cell above for installing missing libraries.***"
   ]
  },
  {
   "cell_type": "code",
   "execution_count": 2,
   "metadata": {},
   "outputs": [
    {
     "name": "stdout",
     "output_type": "stream",
     "text": [
      "['leaderboard_0925.xlsx', 'leaderboard_1002.xlsx', 'leaderboard_1009.xlsx', 'leaderboard_1016.xlsx', 'leaderboard_1023.xlsx']\n"
     ]
    }
   ],
   "source": [
    "positions = {}\n",
    "scores = {}\n",
    "import glob\n",
    "\n",
    "# Define the file extension\n",
    "extension = '*.xlsx'\n",
    "\n",
    "# Extract the list of files with the extension\n",
    "file_list = glob.glob(extension)\n",
    "\n",
    "# Print the list of files\n",
    "print(file_list)"
   ]
  },
  {
   "cell_type": "code",
   "execution_count": 3,
   "metadata": {},
   "outputs": [],
   "source": [
    "from hashlib import sha1\n",
    "import pandas as pd\n",
    "import numpy as np\n",
    "import ipywidgets as widgets\n",
    "import matplotlib.pyplot as plt\n",
    "from typing import Tuple\n",
    "from IPython.display import display, clear_output\n",
    "import os\n",
    "\n",
    "email = 'ellacharmed@gmail.com'\n",
    "my_scores = pd.DataFrame(columns=['task', 'n_submissions', 'position', 'score'])\n",
    "\n",
    "def compute_hash():\n",
    "    return sha1(email.lower().encode('utf-8')).hexdigest()\n",
    "\n",
    "def read_leaderboard_from_excel_spreadsheet(\n",
    "        url:str='leaderboard_1009.xlsx'\n",
    "    )->pd.DataFrame:\n",
    "    list_df = pd.read_excel(url, index_col=0)\n",
    "\n",
    "    return list_df\n",
    "\n",
    "def read_leaderboard_from_google_spreadsheet(\n",
    "        url:str='https://docs.google.com/spreadsheets/d/e/2PACX-1vSNK_yGtELX1RJK1SSRl4xiUbD0XZMYS6uwHnybc7Mql-WMnMgO7hHSu59w-1cE7FeFZjkopbh684UE/pubhtml#'\n",
    "    )->pd.DataFrame:\n",
    "    list_df = pd.read_html(url, header=1, index_col=0)\n",
    "    for df in list_df[1:]:\n",
    "        df.drop(index=np.NaN, inplace=True)\n",
    "        df.reset_index(drop=True, inplace=True)\n",
    "    df_leaderboard = list_df[-1]\n",
    "\n",
    "    return df_leaderboard\n",
    "\n",
    "def get_your_score_and_position(\n",
    "        df_leaderboard:pd.DataFrame,\n",
    "        email_hash:str,\n",
    "    )->Tuple[int, int]:\n",
    "    indices = df_leaderboard.email==email_hash\n",
    "    # print(indices.any())\n",
    "    if indices.any():\n",
    "        position = df_leaderboard.loc[indices].total.index.to_list()[0]\n",
    "        total_score = df_leaderboard.loc[indices].total.values[0]\n",
    "        found = True\n",
    "    else:\n",
    "        print('Your email is not found in the leaderboard')\n",
    "        found = False\n",
    "        position = np.nan\n",
    "        total_score = np.nan\n",
    "    return found, position, total_score\n",
    "\n",
    "def collate_leaderboard_for_all_weeks() -> pd.DataFrame:\n",
    "    df = pd.DataFrame()\n",
    "    # print(file_list)\n",
    "    for file in file_list:\n",
    "        print(f'reading {file} ... ')\n",
    "        df = read_leaderboard_from_excel_spreadsheet(file)\n",
    "        temp_df = pd.DataFrame()\n",
    "        display(df.head(2))\n",
    "        \n",
    "        global email_hash, total_score, position, my_scores\n",
    "        email_hash = compute_hash()\n",
    "        solved_tasks = df.loc[:, 'email':'total'].columns[1:-1].to_list()\n",
    "        \n",
    "        submissions = len(df[df.iloc[:, -2] > 0])\n",
    "        print(f'{submissions}')\n",
    "        found, position, total_score = get_your_score_and_position(\n",
    "            df,\n",
    "            email_hash)\n",
    "        if not found:\n",
    "            result = f\"Unable to find your email hash in the leaderboard:\\nemail:\\t'{email}'\\nhash:\\t'{email_hash}'\"\n",
    "        else:\n",
    "            data = { \n",
    "                'task': solved_tasks[-1], \n",
    "                'n_submissions' : submissions, \n",
    "                'position' : position, \n",
    "                'score' : total_score\n",
    "            }\n",
    "            temp_df = pd.DataFrame(data=data, index=[1])\n",
    "            display(temp_df)\n",
    "            my_scores = pd.concat([my_scores, temp_df], ignore_index=True)\n",
    "            result = f\"email:\\t'{email}'\\nhash:\\t'{email_hash}'\\nposition:\\t{position} (zero-based index)\\ntotal score:\\t{total_score}\\n\\nsolved tasks:\\t{solved_tasks}\"\n",
    "            print(f'{solved_tasks[-1]}, {position =}, {total_score =}')\n",
    "            display(my_scores)\n",
    "            print()\n",
    "    return df, result\n",
    "\n",
    "def plot_leaderboard_histogram(\n",
    "        df_leaderboard:pd.DataFrame, \n",
    "        ax:plt.Axes=None,\n",
    "        your_score:int=np.nan, \n",
    "        your_position:int=np.nan,\n",
    "        marker='o',\n",
    "        color='orange', \n",
    "        ):\n",
    "    ax = df_leaderboard.total.hist(bins=200, ax=ax, cumulative=True, alpha=.7)\n",
    "    ax.grid(False)\n",
    "\n",
    "    n = len(df_leaderboard)\n",
    "    ax.hlines(n-100, xmin=0, xmax=df_leaderboard.total.max(), color='black', linestyles=':', label='top 100')\n",
    "    \n",
    "    if your_score != np.nan:\n",
    "        ax.scatter(\n",
    "            x=your_score,\n",
    "            y=n-your_position,\n",
    "            color=color,\n",
    "            marker=marker,\n",
    "            label='your position'\n",
    "        )\n",
    "    ax.set_xlabel('total scores')\n",
    "    ax.set_title('Check your placement for total scores')\n",
    "    ax.grid(False)\n",
    "    ax.legend()\n",
    "    return ax"
   ]
  },
  {
   "cell_type": "code",
   "execution_count": 4,
   "metadata": {},
   "outputs": [],
   "source": [
    "df_leaderboard = read_leaderboard_from_excel_spreadsheet()"
   ]
  },
  {
   "cell_type": "code",
   "execution_count": 5,
   "metadata": {},
   "outputs": [
    {
     "name": "stdout",
     "output_type": "stream",
     "text": [
      "reading leaderboard_0925.xlsx ... \n"
     ]
    },
    {
     "data": {
      "text/html": [
       "<div>\n",
       "<style scoped>\n",
       "    .dataframe tbody tr th:only-of-type {\n",
       "        vertical-align: middle;\n",
       "    }\n",
       "\n",
       "    .dataframe tbody tr th {\n",
       "        vertical-align: top;\n",
       "    }\n",
       "\n",
       "    .dataframe thead th {\n",
       "        text-align: right;\n",
       "    }\n",
       "</style>\n",
       "<table border=\"1\" class=\"dataframe\">\n",
       "  <thead>\n",
       "    <tr style=\"text-align: right;\">\n",
       "      <th></th>\n",
       "      <th>email</th>\n",
       "      <th>hw-01</th>\n",
       "      <th>total</th>\n",
       "    </tr>\n",
       "    <tr>\n",
       "      <th>id</th>\n",
       "      <th></th>\n",
       "      <th></th>\n",
       "      <th></th>\n",
       "    </tr>\n",
       "  </thead>\n",
       "  <tbody>\n",
       "    <tr>\n",
       "      <th>1</th>\n",
       "      <td>2a56ff196285928eaa68969d3422ed963168dc38</td>\n",
       "      <td>15</td>\n",
       "      <td>15</td>\n",
       "    </tr>\n",
       "    <tr>\n",
       "      <th>2</th>\n",
       "      <td>3b4f201e6a1c3b2566008c66556608cb9a32e7c8</td>\n",
       "      <td>15</td>\n",
       "      <td>15</td>\n",
       "    </tr>\n",
       "  </tbody>\n",
       "</table>\n",
       "</div>"
      ],
      "text/plain": [
       "                                       email  hw-01  total\n",
       "id                                                        \n",
       "1   2a56ff196285928eaa68969d3422ed963168dc38     15     15\n",
       "2   3b4f201e6a1c3b2566008c66556608cb9a32e7c8     15     15"
      ]
     },
     "metadata": {},
     "output_type": "display_data"
    },
    {
     "name": "stdout",
     "output_type": "stream",
     "text": [
      "790\n"
     ]
    },
    {
     "data": {
      "text/html": [
       "<div>\n",
       "<style scoped>\n",
       "    .dataframe tbody tr th:only-of-type {\n",
       "        vertical-align: middle;\n",
       "    }\n",
       "\n",
       "    .dataframe tbody tr th {\n",
       "        vertical-align: top;\n",
       "    }\n",
       "\n",
       "    .dataframe thead th {\n",
       "        text-align: right;\n",
       "    }\n",
       "</style>\n",
       "<table border=\"1\" class=\"dataframe\">\n",
       "  <thead>\n",
       "    <tr style=\"text-align: right;\">\n",
       "      <th></th>\n",
       "      <th>task</th>\n",
       "      <th>n_submissions</th>\n",
       "      <th>position</th>\n",
       "      <th>score</th>\n",
       "    </tr>\n",
       "  </thead>\n",
       "  <tbody>\n",
       "    <tr>\n",
       "      <th>1</th>\n",
       "      <td>hw-01</td>\n",
       "      <td>790</td>\n",
       "      <td>527</td>\n",
       "      <td>7</td>\n",
       "    </tr>\n",
       "  </tbody>\n",
       "</table>\n",
       "</div>"
      ],
      "text/plain": [
       "    task  n_submissions  position  score\n",
       "1  hw-01            790       527      7"
      ]
     },
     "metadata": {},
     "output_type": "display_data"
    },
    {
     "name": "stdout",
     "output_type": "stream",
     "text": [
      "hw-01, position =527, total_score =7\n"
     ]
    },
    {
     "data": {
      "text/html": [
       "<div>\n",
       "<style scoped>\n",
       "    .dataframe tbody tr th:only-of-type {\n",
       "        vertical-align: middle;\n",
       "    }\n",
       "\n",
       "    .dataframe tbody tr th {\n",
       "        vertical-align: top;\n",
       "    }\n",
       "\n",
       "    .dataframe thead th {\n",
       "        text-align: right;\n",
       "    }\n",
       "</style>\n",
       "<table border=\"1\" class=\"dataframe\">\n",
       "  <thead>\n",
       "    <tr style=\"text-align: right;\">\n",
       "      <th></th>\n",
       "      <th>task</th>\n",
       "      <th>n_submissions</th>\n",
       "      <th>position</th>\n",
       "      <th>score</th>\n",
       "    </tr>\n",
       "  </thead>\n",
       "  <tbody>\n",
       "    <tr>\n",
       "      <th>0</th>\n",
       "      <td>hw-01</td>\n",
       "      <td>790</td>\n",
       "      <td>527</td>\n",
       "      <td>7</td>\n",
       "    </tr>\n",
       "  </tbody>\n",
       "</table>\n",
       "</div>"
      ],
      "text/plain": [
       "    task n_submissions position score\n",
       "0  hw-01           790      527     7"
      ]
     },
     "metadata": {},
     "output_type": "display_data"
    },
    {
     "name": "stdout",
     "output_type": "stream",
     "text": [
      "\n",
      "reading leaderboard_1002.xlsx ... \n"
     ]
    },
    {
     "data": {
      "text/html": [
       "<div>\n",
       "<style scoped>\n",
       "    .dataframe tbody tr th:only-of-type {\n",
       "        vertical-align: middle;\n",
       "    }\n",
       "\n",
       "    .dataframe tbody tr th {\n",
       "        vertical-align: top;\n",
       "    }\n",
       "\n",
       "    .dataframe thead th {\n",
       "        text-align: right;\n",
       "    }\n",
       "</style>\n",
       "<table border=\"1\" class=\"dataframe\">\n",
       "  <thead>\n",
       "    <tr style=\"text-align: right;\">\n",
       "      <th></th>\n",
       "      <th>email</th>\n",
       "      <th>hw-01</th>\n",
       "      <th>hw-02</th>\n",
       "      <th>total</th>\n",
       "    </tr>\n",
       "    <tr>\n",
       "      <th>id</th>\n",
       "      <th></th>\n",
       "      <th></th>\n",
       "      <th></th>\n",
       "      <th></th>\n",
       "    </tr>\n",
       "  </thead>\n",
       "  <tbody>\n",
       "    <tr>\n",
       "      <th>1</th>\n",
       "      <td>eaecbc75eeb043c71a56a47b971d3701bc0f1cca</td>\n",
       "      <td>15</td>\n",
       "      <td>14</td>\n",
       "      <td>29</td>\n",
       "    </tr>\n",
       "    <tr>\n",
       "      <th>2</th>\n",
       "      <td>2a56ff196285928eaa68969d3422ed963168dc38</td>\n",
       "      <td>15</td>\n",
       "      <td>14</td>\n",
       "      <td>29</td>\n",
       "    </tr>\n",
       "  </tbody>\n",
       "</table>\n",
       "</div>"
      ],
      "text/plain": [
       "                                       email  hw-01  hw-02  total\n",
       "id                                                               \n",
       "1   eaecbc75eeb043c71a56a47b971d3701bc0f1cca     15     14     29\n",
       "2   2a56ff196285928eaa68969d3422ed963168dc38     15     14     29"
      ]
     },
     "metadata": {},
     "output_type": "display_data"
    },
    {
     "name": "stdout",
     "output_type": "stream",
     "text": [
      "558\n"
     ]
    },
    {
     "data": {
      "text/html": [
       "<div>\n",
       "<style scoped>\n",
       "    .dataframe tbody tr th:only-of-type {\n",
       "        vertical-align: middle;\n",
       "    }\n",
       "\n",
       "    .dataframe tbody tr th {\n",
       "        vertical-align: top;\n",
       "    }\n",
       "\n",
       "    .dataframe thead th {\n",
       "        text-align: right;\n",
       "    }\n",
       "</style>\n",
       "<table border=\"1\" class=\"dataframe\">\n",
       "  <thead>\n",
       "    <tr style=\"text-align: right;\">\n",
       "      <th></th>\n",
       "      <th>task</th>\n",
       "      <th>n_submissions</th>\n",
       "      <th>position</th>\n",
       "      <th>score</th>\n",
       "    </tr>\n",
       "  </thead>\n",
       "  <tbody>\n",
       "    <tr>\n",
       "      <th>1</th>\n",
       "      <td>hw-02</td>\n",
       "      <td>558</td>\n",
       "      <td>203</td>\n",
       "      <td>13</td>\n",
       "    </tr>\n",
       "  </tbody>\n",
       "</table>\n",
       "</div>"
      ],
      "text/plain": [
       "    task  n_submissions  position  score\n",
       "1  hw-02            558       203     13"
      ]
     },
     "metadata": {},
     "output_type": "display_data"
    },
    {
     "name": "stdout",
     "output_type": "stream",
     "text": [
      "hw-02, position =203, total_score =13\n"
     ]
    },
    {
     "data": {
      "text/html": [
       "<div>\n",
       "<style scoped>\n",
       "    .dataframe tbody tr th:only-of-type {\n",
       "        vertical-align: middle;\n",
       "    }\n",
       "\n",
       "    .dataframe tbody tr th {\n",
       "        vertical-align: top;\n",
       "    }\n",
       "\n",
       "    .dataframe thead th {\n",
       "        text-align: right;\n",
       "    }\n",
       "</style>\n",
       "<table border=\"1\" class=\"dataframe\">\n",
       "  <thead>\n",
       "    <tr style=\"text-align: right;\">\n",
       "      <th></th>\n",
       "      <th>task</th>\n",
       "      <th>n_submissions</th>\n",
       "      <th>position</th>\n",
       "      <th>score</th>\n",
       "    </tr>\n",
       "  </thead>\n",
       "  <tbody>\n",
       "    <tr>\n",
       "      <th>0</th>\n",
       "      <td>hw-01</td>\n",
       "      <td>790</td>\n",
       "      <td>527</td>\n",
       "      <td>7</td>\n",
       "    </tr>\n",
       "    <tr>\n",
       "      <th>1</th>\n",
       "      <td>hw-02</td>\n",
       "      <td>558</td>\n",
       "      <td>203</td>\n",
       "      <td>13</td>\n",
       "    </tr>\n",
       "  </tbody>\n",
       "</table>\n",
       "</div>"
      ],
      "text/plain": [
       "    task n_submissions position score\n",
       "0  hw-01           790      527     7\n",
       "1  hw-02           558      203    13"
      ]
     },
     "metadata": {},
     "output_type": "display_data"
    },
    {
     "name": "stdout",
     "output_type": "stream",
     "text": [
      "\n",
      "reading leaderboard_1009.xlsx ... \n"
     ]
    },
    {
     "data": {
      "text/html": [
       "<div>\n",
       "<style scoped>\n",
       "    .dataframe tbody tr th:only-of-type {\n",
       "        vertical-align: middle;\n",
       "    }\n",
       "\n",
       "    .dataframe tbody tr th {\n",
       "        vertical-align: top;\n",
       "    }\n",
       "\n",
       "    .dataframe thead th {\n",
       "        text-align: right;\n",
       "    }\n",
       "</style>\n",
       "<table border=\"1\" class=\"dataframe\">\n",
       "  <thead>\n",
       "    <tr style=\"text-align: right;\">\n",
       "      <th></th>\n",
       "      <th>email</th>\n",
       "      <th>hw-01</th>\n",
       "      <th>hw-02</th>\n",
       "      <th>hw-03</th>\n",
       "      <th>total</th>\n",
       "    </tr>\n",
       "    <tr>\n",
       "      <th>id</th>\n",
       "      <th></th>\n",
       "      <th></th>\n",
       "      <th></th>\n",
       "      <th></th>\n",
       "      <th></th>\n",
       "    </tr>\n",
       "  </thead>\n",
       "  <tbody>\n",
       "    <tr>\n",
       "      <th>1</th>\n",
       "      <td>eaecbc75eeb043c71a56a47b971d3701bc0f1cca</td>\n",
       "      <td>15</td>\n",
       "      <td>14</td>\n",
       "      <td>14</td>\n",
       "      <td>43</td>\n",
       "    </tr>\n",
       "    <tr>\n",
       "      <th>2</th>\n",
       "      <td>2a56ff196285928eaa68969d3422ed963168dc38</td>\n",
       "      <td>15</td>\n",
       "      <td>14</td>\n",
       "      <td>14</td>\n",
       "      <td>43</td>\n",
       "    </tr>\n",
       "  </tbody>\n",
       "</table>\n",
       "</div>"
      ],
      "text/plain": [
       "                                       email  hw-01  hw-02  hw-03  total\n",
       "id                                                                      \n",
       "1   eaecbc75eeb043c71a56a47b971d3701bc0f1cca     15     14     14     43\n",
       "2   2a56ff196285928eaa68969d3422ed963168dc38     15     14     14     43"
      ]
     },
     "metadata": {},
     "output_type": "display_data"
    },
    {
     "name": "stdout",
     "output_type": "stream",
     "text": [
      "459\n"
     ]
    },
    {
     "data": {
      "text/html": [
       "<div>\n",
       "<style scoped>\n",
       "    .dataframe tbody tr th:only-of-type {\n",
       "        vertical-align: middle;\n",
       "    }\n",
       "\n",
       "    .dataframe tbody tr th {\n",
       "        vertical-align: top;\n",
       "    }\n",
       "\n",
       "    .dataframe thead th {\n",
       "        text-align: right;\n",
       "    }\n",
       "</style>\n",
       "<table border=\"1\" class=\"dataframe\">\n",
       "  <thead>\n",
       "    <tr style=\"text-align: right;\">\n",
       "      <th></th>\n",
       "      <th>task</th>\n",
       "      <th>n_submissions</th>\n",
       "      <th>position</th>\n",
       "      <th>score</th>\n",
       "    </tr>\n",
       "  </thead>\n",
       "  <tbody>\n",
       "    <tr>\n",
       "      <th>1</th>\n",
       "      <td>hw-03</td>\n",
       "      <td>459</td>\n",
       "      <td>168</td>\n",
       "      <td>19</td>\n",
       "    </tr>\n",
       "  </tbody>\n",
       "</table>\n",
       "</div>"
      ],
      "text/plain": [
       "    task  n_submissions  position  score\n",
       "1  hw-03            459       168     19"
      ]
     },
     "metadata": {},
     "output_type": "display_data"
    },
    {
     "name": "stdout",
     "output_type": "stream",
     "text": [
      "hw-03, position =168, total_score =19\n"
     ]
    },
    {
     "data": {
      "text/html": [
       "<div>\n",
       "<style scoped>\n",
       "    .dataframe tbody tr th:only-of-type {\n",
       "        vertical-align: middle;\n",
       "    }\n",
       "\n",
       "    .dataframe tbody tr th {\n",
       "        vertical-align: top;\n",
       "    }\n",
       "\n",
       "    .dataframe thead th {\n",
       "        text-align: right;\n",
       "    }\n",
       "</style>\n",
       "<table border=\"1\" class=\"dataframe\">\n",
       "  <thead>\n",
       "    <tr style=\"text-align: right;\">\n",
       "      <th></th>\n",
       "      <th>task</th>\n",
       "      <th>n_submissions</th>\n",
       "      <th>position</th>\n",
       "      <th>score</th>\n",
       "    </tr>\n",
       "  </thead>\n",
       "  <tbody>\n",
       "    <tr>\n",
       "      <th>0</th>\n",
       "      <td>hw-01</td>\n",
       "      <td>790</td>\n",
       "      <td>527</td>\n",
       "      <td>7</td>\n",
       "    </tr>\n",
       "    <tr>\n",
       "      <th>1</th>\n",
       "      <td>hw-02</td>\n",
       "      <td>558</td>\n",
       "      <td>203</td>\n",
       "      <td>13</td>\n",
       "    </tr>\n",
       "    <tr>\n",
       "      <th>2</th>\n",
       "      <td>hw-03</td>\n",
       "      <td>459</td>\n",
       "      <td>168</td>\n",
       "      <td>19</td>\n",
       "    </tr>\n",
       "  </tbody>\n",
       "</table>\n",
       "</div>"
      ],
      "text/plain": [
       "    task n_submissions position score\n",
       "0  hw-01           790      527     7\n",
       "1  hw-02           558      203    13\n",
       "2  hw-03           459      168    19"
      ]
     },
     "metadata": {},
     "output_type": "display_data"
    },
    {
     "name": "stdout",
     "output_type": "stream",
     "text": [
      "\n",
      "reading leaderboard_1016.xlsx ... \n"
     ]
    },
    {
     "data": {
      "text/html": [
       "<div>\n",
       "<style scoped>\n",
       "    .dataframe tbody tr th:only-of-type {\n",
       "        vertical-align: middle;\n",
       "    }\n",
       "\n",
       "    .dataframe tbody tr th {\n",
       "        vertical-align: top;\n",
       "    }\n",
       "\n",
       "    .dataframe thead th {\n",
       "        text-align: right;\n",
       "    }\n",
       "</style>\n",
       "<table border=\"1\" class=\"dataframe\">\n",
       "  <thead>\n",
       "    <tr style=\"text-align: right;\">\n",
       "      <th></th>\n",
       "      <th>email</th>\n",
       "      <th>hw-01</th>\n",
       "      <th>hw-02</th>\n",
       "      <th>hw-03</th>\n",
       "      <th>hw-04</th>\n",
       "      <th>total</th>\n",
       "    </tr>\n",
       "    <tr>\n",
       "      <th>id</th>\n",
       "      <th></th>\n",
       "      <th></th>\n",
       "      <th></th>\n",
       "      <th></th>\n",
       "      <th></th>\n",
       "      <th></th>\n",
       "    </tr>\n",
       "  </thead>\n",
       "  <tbody>\n",
       "    <tr>\n",
       "      <th>1</th>\n",
       "      <td>eaecbc75eeb043c71a56a47b971d3701bc0f1cca</td>\n",
       "      <td>15</td>\n",
       "      <td>14</td>\n",
       "      <td>14</td>\n",
       "      <td>14</td>\n",
       "      <td>57</td>\n",
       "    </tr>\n",
       "    <tr>\n",
       "      <th>2</th>\n",
       "      <td>2a56ff196285928eaa68969d3422ed963168dc38</td>\n",
       "      <td>15</td>\n",
       "      <td>14</td>\n",
       "      <td>14</td>\n",
       "      <td>14</td>\n",
       "      <td>57</td>\n",
       "    </tr>\n",
       "  </tbody>\n",
       "</table>\n",
       "</div>"
      ],
      "text/plain": [
       "                                       email  hw-01  hw-02  hw-03  hw-04  \\\n",
       "id                                                                         \n",
       "1   eaecbc75eeb043c71a56a47b971d3701bc0f1cca     15     14     14     14   \n",
       "2   2a56ff196285928eaa68969d3422ed963168dc38     15     14     14     14   \n",
       "\n",
       "    total  \n",
       "id         \n",
       "1      57  \n",
       "2      57  "
      ]
     },
     "metadata": {},
     "output_type": "display_data"
    },
    {
     "name": "stdout",
     "output_type": "stream",
     "text": [
      "356\n"
     ]
    },
    {
     "data": {
      "text/html": [
       "<div>\n",
       "<style scoped>\n",
       "    .dataframe tbody tr th:only-of-type {\n",
       "        vertical-align: middle;\n",
       "    }\n",
       "\n",
       "    .dataframe tbody tr th {\n",
       "        vertical-align: top;\n",
       "    }\n",
       "\n",
       "    .dataframe thead th {\n",
       "        text-align: right;\n",
       "    }\n",
       "</style>\n",
       "<table border=\"1\" class=\"dataframe\">\n",
       "  <thead>\n",
       "    <tr style=\"text-align: right;\">\n",
       "      <th></th>\n",
       "      <th>task</th>\n",
       "      <th>n_submissions</th>\n",
       "      <th>position</th>\n",
       "      <th>score</th>\n",
       "    </tr>\n",
       "  </thead>\n",
       "  <tbody>\n",
       "    <tr>\n",
       "      <th>1</th>\n",
       "      <td>hw-04</td>\n",
       "      <td>356</td>\n",
       "      <td>77</td>\n",
       "      <td>28</td>\n",
       "    </tr>\n",
       "  </tbody>\n",
       "</table>\n",
       "</div>"
      ],
      "text/plain": [
       "    task  n_submissions  position  score\n",
       "1  hw-04            356        77     28"
      ]
     },
     "metadata": {},
     "output_type": "display_data"
    },
    {
     "name": "stdout",
     "output_type": "stream",
     "text": [
      "hw-04, position =77, total_score =28\n"
     ]
    },
    {
     "data": {
      "text/html": [
       "<div>\n",
       "<style scoped>\n",
       "    .dataframe tbody tr th:only-of-type {\n",
       "        vertical-align: middle;\n",
       "    }\n",
       "\n",
       "    .dataframe tbody tr th {\n",
       "        vertical-align: top;\n",
       "    }\n",
       "\n",
       "    .dataframe thead th {\n",
       "        text-align: right;\n",
       "    }\n",
       "</style>\n",
       "<table border=\"1\" class=\"dataframe\">\n",
       "  <thead>\n",
       "    <tr style=\"text-align: right;\">\n",
       "      <th></th>\n",
       "      <th>task</th>\n",
       "      <th>n_submissions</th>\n",
       "      <th>position</th>\n",
       "      <th>score</th>\n",
       "    </tr>\n",
       "  </thead>\n",
       "  <tbody>\n",
       "    <tr>\n",
       "      <th>0</th>\n",
       "      <td>hw-01</td>\n",
       "      <td>790</td>\n",
       "      <td>527</td>\n",
       "      <td>7</td>\n",
       "    </tr>\n",
       "    <tr>\n",
       "      <th>1</th>\n",
       "      <td>hw-02</td>\n",
       "      <td>558</td>\n",
       "      <td>203</td>\n",
       "      <td>13</td>\n",
       "    </tr>\n",
       "    <tr>\n",
       "      <th>2</th>\n",
       "      <td>hw-03</td>\n",
       "      <td>459</td>\n",
       "      <td>168</td>\n",
       "      <td>19</td>\n",
       "    </tr>\n",
       "    <tr>\n",
       "      <th>3</th>\n",
       "      <td>hw-04</td>\n",
       "      <td>356</td>\n",
       "      <td>77</td>\n",
       "      <td>28</td>\n",
       "    </tr>\n",
       "  </tbody>\n",
       "</table>\n",
       "</div>"
      ],
      "text/plain": [
       "    task n_submissions position score\n",
       "0  hw-01           790      527     7\n",
       "1  hw-02           558      203    13\n",
       "2  hw-03           459      168    19\n",
       "3  hw-04           356       77    28"
      ]
     },
     "metadata": {},
     "output_type": "display_data"
    },
    {
     "name": "stdout",
     "output_type": "stream",
     "text": [
      "\n",
      "reading leaderboard_1023.xlsx ... \n"
     ]
    },
    {
     "data": {
      "text/html": [
       "<div>\n",
       "<style scoped>\n",
       "    .dataframe tbody tr th:only-of-type {\n",
       "        vertical-align: middle;\n",
       "    }\n",
       "\n",
       "    .dataframe tbody tr th {\n",
       "        vertical-align: top;\n",
       "    }\n",
       "\n",
       "    .dataframe thead th {\n",
       "        text-align: right;\n",
       "    }\n",
       "</style>\n",
       "<table border=\"1\" class=\"dataframe\">\n",
       "  <thead>\n",
       "    <tr style=\"text-align: right;\">\n",
       "      <th></th>\n",
       "      <th>email</th>\n",
       "      <th>hw-01</th>\n",
       "      <th>hw-02</th>\n",
       "      <th>hw-03</th>\n",
       "      <th>hw-04</th>\n",
       "      <th>hw-05</th>\n",
       "      <th>total</th>\n",
       "    </tr>\n",
       "    <tr>\n",
       "      <th>id</th>\n",
       "      <th></th>\n",
       "      <th></th>\n",
       "      <th></th>\n",
       "      <th></th>\n",
       "      <th></th>\n",
       "      <th></th>\n",
       "      <th></th>\n",
       "    </tr>\n",
       "  </thead>\n",
       "  <tbody>\n",
       "    <tr>\n",
       "      <th>1</th>\n",
       "      <td>2a56ff196285928eaa68969d3422ed963168dc38</td>\n",
       "      <td>15</td>\n",
       "      <td>14</td>\n",
       "      <td>14</td>\n",
       "      <td>14</td>\n",
       "      <td>14</td>\n",
       "      <td>71</td>\n",
       "    </tr>\n",
       "    <tr>\n",
       "      <th>2</th>\n",
       "      <td>eaecbc75eeb043c71a56a47b971d3701bc0f1cca</td>\n",
       "      <td>15</td>\n",
       "      <td>14</td>\n",
       "      <td>14</td>\n",
       "      <td>14</td>\n",
       "      <td>13</td>\n",
       "      <td>70</td>\n",
       "    </tr>\n",
       "  </tbody>\n",
       "</table>\n",
       "</div>"
      ],
      "text/plain": [
       "                                       email  hw-01  hw-02  hw-03  hw-04  \\\n",
       "id                                                                         \n",
       "1   2a56ff196285928eaa68969d3422ed963168dc38     15     14     14     14   \n",
       "2   eaecbc75eeb043c71a56a47b971d3701bc0f1cca     15     14     14     14   \n",
       "\n",
       "    hw-05  total  \n",
       "id                \n",
       "1      14     71  \n",
       "2      13     70  "
      ]
     },
     "metadata": {},
     "output_type": "display_data"
    },
    {
     "name": "stdout",
     "output_type": "stream",
     "text": [
      "299\n"
     ]
    },
    {
     "data": {
      "text/html": [
       "<div>\n",
       "<style scoped>\n",
       "    .dataframe tbody tr th:only-of-type {\n",
       "        vertical-align: middle;\n",
       "    }\n",
       "\n",
       "    .dataframe tbody tr th {\n",
       "        vertical-align: top;\n",
       "    }\n",
       "\n",
       "    .dataframe thead th {\n",
       "        text-align: right;\n",
       "    }\n",
       "</style>\n",
       "<table border=\"1\" class=\"dataframe\">\n",
       "  <thead>\n",
       "    <tr style=\"text-align: right;\">\n",
       "      <th></th>\n",
       "      <th>task</th>\n",
       "      <th>n_submissions</th>\n",
       "      <th>position</th>\n",
       "      <th>score</th>\n",
       "    </tr>\n",
       "  </thead>\n",
       "  <tbody>\n",
       "    <tr>\n",
       "      <th>1</th>\n",
       "      <td>hw-05</td>\n",
       "      <td>299</td>\n",
       "      <td>29</td>\n",
       "      <td>42</td>\n",
       "    </tr>\n",
       "  </tbody>\n",
       "</table>\n",
       "</div>"
      ],
      "text/plain": [
       "    task  n_submissions  position  score\n",
       "1  hw-05            299        29     42"
      ]
     },
     "metadata": {},
     "output_type": "display_data"
    },
    {
     "name": "stdout",
     "output_type": "stream",
     "text": [
      "hw-05, position =29, total_score =42\n"
     ]
    },
    {
     "data": {
      "text/html": [
       "<div>\n",
       "<style scoped>\n",
       "    .dataframe tbody tr th:only-of-type {\n",
       "        vertical-align: middle;\n",
       "    }\n",
       "\n",
       "    .dataframe tbody tr th {\n",
       "        vertical-align: top;\n",
       "    }\n",
       "\n",
       "    .dataframe thead th {\n",
       "        text-align: right;\n",
       "    }\n",
       "</style>\n",
       "<table border=\"1\" class=\"dataframe\">\n",
       "  <thead>\n",
       "    <tr style=\"text-align: right;\">\n",
       "      <th></th>\n",
       "      <th>task</th>\n",
       "      <th>n_submissions</th>\n",
       "      <th>position</th>\n",
       "      <th>score</th>\n",
       "    </tr>\n",
       "  </thead>\n",
       "  <tbody>\n",
       "    <tr>\n",
       "      <th>0</th>\n",
       "      <td>hw-01</td>\n",
       "      <td>790</td>\n",
       "      <td>527</td>\n",
       "      <td>7</td>\n",
       "    </tr>\n",
       "    <tr>\n",
       "      <th>1</th>\n",
       "      <td>hw-02</td>\n",
       "      <td>558</td>\n",
       "      <td>203</td>\n",
       "      <td>13</td>\n",
       "    </tr>\n",
       "    <tr>\n",
       "      <th>2</th>\n",
       "      <td>hw-03</td>\n",
       "      <td>459</td>\n",
       "      <td>168</td>\n",
       "      <td>19</td>\n",
       "    </tr>\n",
       "    <tr>\n",
       "      <th>3</th>\n",
       "      <td>hw-04</td>\n",
       "      <td>356</td>\n",
       "      <td>77</td>\n",
       "      <td>28</td>\n",
       "    </tr>\n",
       "    <tr>\n",
       "      <th>4</th>\n",
       "      <td>hw-05</td>\n",
       "      <td>299</td>\n",
       "      <td>29</td>\n",
       "      <td>42</td>\n",
       "    </tr>\n",
       "  </tbody>\n",
       "</table>\n",
       "</div>"
      ],
      "text/plain": [
       "    task n_submissions position score\n",
       "0  hw-01           790      527     7\n",
       "1  hw-02           558      203    13\n",
       "2  hw-03           459      168    19\n",
       "3  hw-04           356       77    28\n",
       "4  hw-05           299       29    42"
      ]
     },
     "metadata": {},
     "output_type": "display_data"
    },
    {
     "name": "stdout",
     "output_type": "stream",
     "text": [
      "\n"
     ]
    }
   ],
   "source": [
    "df, result = collate_leaderboard_for_all_weeks()"
   ]
  },
  {
   "cell_type": "code",
   "execution_count": 6,
   "metadata": {},
   "outputs": [],
   "source": [
    "total_score = np.nan\n",
    "position = np.nan\n",
    "solved_tasks = df_leaderboard.loc[:, 'email':'total'].columns[1:-1].to_list()\n",
    "email_hash = compute_hash() # my email is hardcoded"
   ]
  },
  {
   "cell_type": "code",
   "execution_count": 7,
   "metadata": {},
   "outputs": [],
   "source": [
    "text_email = widgets.Text(\n",
    "    placeholder=email,\n",
    "    disabled=False,\n",
    ")\n",
    "text_hash = widgets.Text(\n",
    "    placeholder='calculated hash',\n",
    "    disabled=True,\n",
    ")\n",
    "text_info = widgets.Textarea(\n",
    "    placeholder='infos about your placement and total score',\n",
    "    layout = widgets.Layout(width='800px', height='100px'),\n",
    "    disabled=True,\n",
    ")"
   ]
  },
  {
   "cell_type": "code",
   "execution_count": 8,
   "metadata": {},
   "outputs": [
    {
     "data": {
      "application/vnd.jupyter.widget-view+json": {
       "model_id": "a16a341d7c1e486498c0593af4c0cb56",
       "version_major": 2,
       "version_minor": 0
      },
      "text/plain": [
       "VBox(children=(HBox(children=(Text(value='', placeholder='ellacharmed@gmail.com'), Button(button_style='succes…"
      ]
     },
     "metadata": {},
     "output_type": "display_data"
    }
   ],
   "source": [
    "def on_button_clicked(b):\n",
    "    global email_hash, total_score, position\n",
    "    email_hash = compute_hash()\n",
    "    text_hash.placeholder = email_hash\n",
    "    found, position, total_score = get_your_score_and_position(\n",
    "        df_leaderboard,\n",
    "        email_hash)\n",
    "    if not found:\n",
    "        text_info.value = f\"Unable to find your email hash in the leaderboard:\\nemail:\\t'{text_email.value}'\\nhash:\\t'{email_hash}'\"\n",
    "    else:\n",
    "        text_info.value = f\"email:\\t'{email}'\\nhash:\\t'{email_hash}'\\nposition:\\t{position} (zero-based index)\\ntotal score:\\t{total_score}\\n\\nsolved tasks:\\t{solved_tasks}\"\n",
    "\n",
    "submit_button=widgets.Button(description='>> calculate hash >>',button_style='success')\n",
    "\n",
    "submit_button.on_click(on_button_clicked)\n",
    "hbox_hash_calc = widgets.HBox([text_email,submit_button, text_hash])\n",
    "all_widgets = widgets.VBox([hbox_hash_calc, text_info])\n",
    "display(all_widgets)"
   ]
  },
  {
   "cell_type": "markdown",
   "metadata": {},
   "source": [
    "position_by_tasks = {<br>\n",
    "                'hw-01': 527, <br>\n",
    "                'hw-02': 203, <br>\n",
    "                'hw-03': 168, <br>\n",
    "                'hw-04' : 77,<br>\n",
    "                'hw-05' : 29,<br>\n",
    "            }\n",
    "\n",
    "score_by_weeks = {<br>\n",
    "                'hw-01': 527, <br>\n",
    "                'hw-02': 203, <br>\n",
    "                'hw-03': 168, <br>\n",
    "                'hw-04' : 77,<br>\n",
    "                'hw-05' : 42,<br>\n",
    "            }"
   ]
  },
  {
   "cell_type": "code",
   "execution_count": 9,
   "metadata": {},
   "outputs": [
    {
     "data": {
      "text/html": [
       "<div>\n",
       "<style scoped>\n",
       "    .dataframe tbody tr th:only-of-type {\n",
       "        vertical-align: middle;\n",
       "    }\n",
       "\n",
       "    .dataframe tbody tr th {\n",
       "        vertical-align: top;\n",
       "    }\n",
       "\n",
       "    .dataframe thead th {\n",
       "        text-align: right;\n",
       "    }\n",
       "</style>\n",
       "<table border=\"1\" class=\"dataframe\">\n",
       "  <thead>\n",
       "    <tr style=\"text-align: right;\">\n",
       "      <th></th>\n",
       "      <th>task</th>\n",
       "      <th>n_submissions</th>\n",
       "      <th>position</th>\n",
       "      <th>score</th>\n",
       "    </tr>\n",
       "  </thead>\n",
       "  <tbody>\n",
       "    <tr>\n",
       "      <th>0</th>\n",
       "      <td>hw-01</td>\n",
       "      <td>790</td>\n",
       "      <td>527</td>\n",
       "      <td>7</td>\n",
       "    </tr>\n",
       "    <tr>\n",
       "      <th>1</th>\n",
       "      <td>hw-02</td>\n",
       "      <td>558</td>\n",
       "      <td>203</td>\n",
       "      <td>13</td>\n",
       "    </tr>\n",
       "    <tr>\n",
       "      <th>2</th>\n",
       "      <td>hw-03</td>\n",
       "      <td>459</td>\n",
       "      <td>168</td>\n",
       "      <td>19</td>\n",
       "    </tr>\n",
       "    <tr>\n",
       "      <th>3</th>\n",
       "      <td>hw-04</td>\n",
       "      <td>356</td>\n",
       "      <td>77</td>\n",
       "      <td>28</td>\n",
       "    </tr>\n",
       "    <tr>\n",
       "      <th>4</th>\n",
       "      <td>hw-05</td>\n",
       "      <td>299</td>\n",
       "      <td>29</td>\n",
       "      <td>42</td>\n",
       "    </tr>\n",
       "  </tbody>\n",
       "</table>\n",
       "</div>"
      ],
      "text/plain": [
       "    task n_submissions position score\n",
       "0  hw-01           790      527     7\n",
       "1  hw-02           558      203    13\n",
       "2  hw-03           459      168    19\n",
       "3  hw-04           356       77    28\n",
       "4  hw-05           299       29    42"
      ]
     },
     "execution_count": 9,
     "metadata": {},
     "output_type": "execute_result"
    }
   ],
   "source": [
    "my_scores"
   ]
  },
  {
   "cell_type": "markdown",
   "metadata": {},
   "source": [
    "## Notes\n",
    "\n",
    "- week01: We had 843 submissions. \n",
    "- week02: We had 596 submissions. \n",
    "- week03: We had 517 submissions. \n",
    "- week04: We had 375 submissions. \n",
    "- week05: We had 325 submissions. \n",
    "- week06: We had  submissions. \n",
    "- midterms: We had  submissions\n",
    "- week07: We had  submissions. \n",
    "- week08: We had  submissions\n",
    "- week09: We had  submissions\n",
    "- week10: We had  submissions\n",
    "- week11: We had  submissions\n",
    "- week12: We had  submissions"
   ]
  },
  {
   "cell_type": "code",
   "execution_count": 10,
   "metadata": {},
   "outputs": [
    {
     "data": {
      "text/plain": [
       "42"
      ]
     },
     "execution_count": 10,
     "metadata": {},
     "output_type": "execute_result"
    }
   ],
   "source": [
    "my_scores.iloc[-1,-1]"
   ]
  },
  {
   "cell_type": "code",
   "execution_count": 11,
   "metadata": {},
   "outputs": [
    {
     "data": {
      "image/png": "[encoded data removed]",
      "text/plain": [
       "<Figure size 640x480 with 1 Axes>"
      ]
     },
     "metadata": {},
     "output_type": "display_data"
    }
   ],
   "source": [
    "fig, ax = plt.subplots()\n",
    "my_scores.plot(kind='bar', ax=ax)\n",
    "\n",
    "for i in ax.containers:\n",
    "    ax.bar_label(i, label_type='edge')\n",
    "\n",
    "plt.title('Histogram of Position vs Total Score')\n",
    "plt.xlabel('Position')\n",
    "plt.ylabel('Total Score')\n",
    "plt.show()"
   ]
  },
  {
   "cell_type": "code",
   "execution_count": 12,
   "metadata": {},
   "outputs": [
    {
     "data": {
      "text/plain": [
       "675"
      ]
     },
     "execution_count": 12,
     "metadata": {},
     "output_type": "execute_result"
    }
   ],
   "source": [
    "843-168"
   ]
  },
  {
   "cell_type": "code",
   "execution_count": 32,
   "metadata": {},
   "outputs": [
    {
     "data": {
      "image/png": "[encoded data removed]",
      "text/plain": [
       "<Figure size 640x480 with 1 Axes>"
      ]
     },
     "metadata": {},
     "output_type": "display_data"
    }
   ],
   "source": [
    "ax = plot_leaderboard_histogram(\n",
    "        df_leaderboard, \n",
    "        your_score=my_scores.iloc[-3,-1], \n",
    "        your_position=my_scores.iloc[-3,-2])\n",
    "\n",
    "ax.annotate('ella hw-3',\n",
    "            xy=(20, 700), xycoords='data',\n",
    "            xytext=(0.25, 0.45), textcoords='axes fraction',\n",
    "            arrowprops=dict(facecolor='black', shrink=0.15),\n",
    "            horizontalalignment='right', verticalalignment='bottom')\n",
    "plt.show()\n"
   ]
  },
  {
   "cell_type": "code",
   "execution_count": null,
   "metadata": {},
   "outputs": [],
   "source": []
  }
 ],
 "metadata": {
  "kernelspec": {
   "display_name": "Python 3 (ipykernel)",
   "language": "python",
   "name": "python3"
  },
  "language_info": {
   "codemirror_mode": {
    "name": "ipython",
    "version": 3
   },
   "file_extension": ".py",
   "mimetype": "text/x-python",
   "name": "python",
   "nbconvert_exporter": "python",
   "pygments_lexer": "ipython3",
   "version": "3.10.12"
  },
  "orig_nbformat": 4
 },
 "nbformat": 4,
 "nbformat_minor": 2
}
