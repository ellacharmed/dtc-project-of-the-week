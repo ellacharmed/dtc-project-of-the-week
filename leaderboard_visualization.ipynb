{
 "cells": [
  {
   "cell_type": "markdown",
   "metadata": {},
   "source": [
    "[source](https://github.com/ai2ys/ml-zoomcamp/blob/main/leaderboard_visualization.ipynb) notebook by [Sylvia Schmitt](https://twitter.com/ai2ys)\n",
    "\n",
    "Instruction for running this leaderboard notebook with the provided :whale: Dockerfile and JupyterLab.\n",
    "\n",
    "1. Run the command **`docker compose run --rm --service-ports mlzoomcamp`** from the shell of the project base directory\n",
    "    ```bash\n",
    "    $ docker compose run --rm --service-ports mlzoomcamp\n",
    "    ```\n",
    "    The JupyterLab port defaults to `8888`. If required adapt the JupyterLab port can be changed at container startup by running the following command instead\n",
    "    ```bash\n",
    "    $ PORT_JNB=<port> docker compose run --rm --service-ports mlzoomcamp\n",
    "    ```\n",
    "\n",
    "2. After you see the shell of the container **`root@mlzoomcamp:/workspace#`** you can easily start JupyterLab using the alias **`jlab`** in the shell of the container. It will use the provided port from container startup.\n",
    "    ```bash\n",
    "    `root@mlzoomcamp:/workspace# jlab\n",
    "    \n",
    "    ```\n"
   ]
  },
  {
   "cell_type": "markdown",
   "metadata": {},
   "source": [
    "# Plotting histogram of total score\n",
    "\n",
    "Check your placement for total scores."
   ]
  },
  {
   "cell_type": "code",
   "execution_count": 89,
   "metadata": {},
   "outputs": [],
   "source": [
    "# !pip install lxml ipywidgets\n",
    "# !jupyter labextension install @jupyter-widgets/jupyterlab-manager\n",
    "# !micromamba install xlrd openpyxl"
   ]
  },
  {
   "cell_type": "markdown",
   "metadata": {},
   "source": [
    "***:information_source: Restart kernel after executing the cell above for installing missing libraries.***"
   ]
  },
  {
   "cell_type": "code",
   "execution_count": 119,
   "metadata": {},
   "outputs": [],
   "source": [
    "from hashlib import sha1\n",
    "import pandas as pd\n",
    "import numpy as np\n",
    "import ipywidgets as widgets\n",
    "import matplotlib.pyplot as plt\n",
    "from typing import Tuple\n",
    "from IPython.display import display, clear_output\n",
    "\n",
    "def compute_hash(email):\n",
    "    return sha1(email.lower().encode('utf-8')).hexdigest()\n",
    "\n",
    "def read_leaderboard_from_excel_spreadsheet(\n",
    "        url:str='leaderboard_0925.xlsx'\n",
    "    )->pd.DataFrame:\n",
    "    list_df = pd.read_excel(url, index_col=0)\n",
    "\n",
    "    return list_df\n",
    "\n",
    "def read_leaderboard_from_google_spreadsheet(\n",
    "        url:str='https://docs.google.com/spreadsheets/d/e/2PACX-1vSNK_yGtELX1RJK1SSRl4xiUbD0XZMYS6uwHnybc7Mql-WMnMgO7hHSu59w-1cE7FeFZjkopbh684UE/pubhtml#'\n",
    "    )->pd.DataFrame:\n",
    "    list_df = pd.read_html(url, header=1, index_col=0)\n",
    "    for df in list_df[1:]:\n",
    "        df.drop(index=np.NaN, inplace=True)\n",
    "        df.reset_index(drop=True, inplace=True)\n",
    "    df_leaderboard = list_df[-1]\n",
    "\n",
    "    return df_leaderboard\n",
    "\n",
    "def get_your_score_and_position(\n",
    "        df_leaderboard:pd.DataFrame,\n",
    "        email_hash:str,\n",
    "    )->Tuple[int, int]:\n",
    "    indices = df_leaderboard.email==email_hash\n",
    "    if indices.any():\n",
    "        position = df_leaderboard.loc[indices].total.index.to_list()[0]\n",
    "        total_score = df_leaderboard.loc[indices].total.values[0]\n",
    "        found = True\n",
    "    else:\n",
    "        print('Your email is not found in the leaderboard')\n",
    "        found = False\n",
    "        position = np.nan\n",
    "        total_score = np.nan\n",
    "    return found, position, total_score\n",
    "\n",
    "def plot_leaderboard_histogram(\n",
    "        df_leaderboard:pd.DataFrame, \n",
    "        ax:plt.Axes=None,\n",
    "        your_score:int=np.nan, \n",
    "        your_position:int=np.nan,\n",
    "        marker='o',\n",
    "        color='orange', \n",
    "        ):\n",
    "    ax = df_leaderboard.total.hist(bins=200, ax=ax, cumulative=True, alpha=.7)\n",
    "    ax.grid(False)\n",
    "\n",
    "    n = len(df_leaderboard)\n",
    "    ax.hlines(n-100, xmin=0, xmax=df_leaderboard.total.max(), color='black', linestyles=':', label='top 100')\n",
    "    \n",
    "    if your_score != np.nan:\n",
    "        ax.scatter(\n",
    "            x=your_score,\n",
    "            y=n-your_position,\n",
    "            color=color,\n",
    "            marker=marker,\n",
    "            label='your position'\n",
    "        )\n",
    "    ax.set_xlabel('total scores')\n",
    "    ax.set_title('Check your placement for total scores')\n",
    "    ax.grid(False)\n",
    "    ax.legend()\n",
    "    return ax"
   ]
  },
  {
   "cell_type": "code",
   "execution_count": 120,
   "metadata": {},
   "outputs": [
    {
     "data": {
      "application/vnd.jupyter.widget-view+json": {
       "model_id": "6371f542f60b4363947f9f5f8a62ad0f",
       "version_major": 2,
       "version_minor": 0
      },
      "text/plain": [
       "VBox(children=(HBox(children=(Text(value='', placeholder='input email'), Button(button_style='success', descri…"
      ]
     },
     "metadata": {},
     "output_type": "display_data"
    }
   ],
   "source": [
    "df_leaderboard = read_leaderboard_from_excel_spreadsheet()\n",
    "total_score = np.nan\n",
    "position = np.nan\n",
    "solved_tasks = df_leaderboard.loc[:, 'email':'total'].columns[1:-1].to_list()\n",
    "email_hash = \"\"\n",
    "text_email = widgets.Text(\n",
    "    placeholder='input email',\n",
    "    disabled=False,\n",
    ")\n",
    "text_hash = widgets.Text(\n",
    "    placeholder='calculated hash',\n",
    "    disabled=True,\n",
    ")\n",
    "text_info = widgets.Textarea(\n",
    "    placeholder='infos about your placement and total score',\n",
    "    layout = widgets.Layout(width='800px', height='100px'),\n",
    "    disabled=True,\n",
    ")\n",
    "\n",
    "def on_button_clicked(b):\n",
    "    global email_hash, total_score, position\n",
    "    email_hash = compute_hash(text_email.value)\n",
    "    text_hash.placeholder = email_hash\n",
    "    found, position, total_score = get_your_score_and_position(\n",
    "        df_leaderboard,\n",
    "        email_hash)\n",
    "    if not found:\n",
    "        text_info.value = f\"Unable to find your email hash in the leaderboard:\\nemail:\\t'{text_email.value}'\\nhash:\\t'{email_hash}'\"\n",
    "    else:\n",
    "        text_info.value = f\"email:\\t'{text_email.value}'\\nhash:\\t'{email_hash}'\\nposition:\\t{position} (zero-based index)\\ntotal score:\\t{total_score}\\n\\nsolved tasks:\\t{solved_tasks}\"\n",
    "\n",
    "submit_button=widgets.Button(description='>> calculate hash >>',button_style='success')\n",
    "\n",
    "submit_button.on_click(on_button_clicked)\n",
    "hbox_hash_calc = widgets.HBox([text_email,submit_button, text_hash])\n",
    "all_widgets = widgets.VBox([hbox_hash_calc, text_info])\n",
    "display(all_widgets)"
   ]
  },
  {
   "cell_type": "markdown",
   "metadata": {},
   "source": [
    "position_by_tasks = {\n",
    "                'hw-01': 527, \n",
    "                'hw-02': 203, \n",
    "                'hw-03': 168, \n",
    "                'hw-04' : 77,\n",
    "            }"
   ]
  },
  {
   "cell_type": "code",
   "execution_count": 124,
   "metadata": {},
   "outputs": [
    {
     "data": {
      "image/png": "[encoded data removed]",
      "text/plain": [
       "<Figure size 640x480 with 1 Axes>"
      ]
     },
     "metadata": {},
     "output_type": "display_data"
    }
   ],
   "source": [
    "ax = plot_leaderboard_histogram(\n",
    "        df_leaderboard, \n",
    "        your_score=total_score, \n",
    "        your_position=position)\n",
    "\n",
    "ax.annotate('ella 2023-09-25',\n",
    "            xy=(7, 257), xycoords='data',\n",
    "            xytext=(0.25, 0.75), textcoords='axes fraction',\n",
    "            arrowprops=dict(facecolor='black', shrink=0.05),\n",
    "            horizontalalignment='right', verticalalignment='bottom')\n",
    "plt.show()\n"
   ]
  },
  {
   "cell_type": "code",
   "execution_count": null,
   "metadata": {},
   "outputs": [],
   "source": []
  }
 ],
 "metadata": {
  "kernelspec": {
   "display_name": "Python 3 (ipykernel)",
   "language": "python",
   "name": "python3"
  },
  "language_info": {
   "codemirror_mode": {
    "name": "ipython",
    "version": 3
   },
   "file_extension": ".py",
   "mimetype": "text/x-python",
   "name": "python",
   "nbconvert_exporter": "python",
   "pygments_lexer": "ipython3",
   "version": "3.10.12"
  },
  "orig_nbformat": 4
 },
 "nbformat": 4,
 "nbformat_minor": 2
}
